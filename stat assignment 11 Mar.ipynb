{
 "cells": [
  {
   "cell_type": "code",
   "execution_count": 2,
   "id": "d2a5505d-5d70-4689-a745-49997d18e24e",
   "metadata": {},
   "outputs": [],
   "source": [
    "#Q1"
   ]
  },
  {
   "cell_type": "code",
   "execution_count": null,
   "id": "1e9e50b7-458d-4a1c-adca-f47d95cbc551",
   "metadata": {},
   "outputs": [],
   "source": [
    "Z test and t test both are used to test the null hypothesis, A z score or t score tells you how many standard deviation the data point is away from mean."
   ]
  },
  {
   "cell_type": "code",
   "execution_count": null,
   "id": "230d14f6-a25b-44ff-a8bf-1a3f1a0d163a",
   "metadata": {},
   "outputs": [],
   "source": [
    "Z Test is used when sample size is greater than 30 and population variance is known else we use T test."
   ]
  },
  {
   "cell_type": "code",
   "execution_count": null,
   "id": "0701fc03-c1a4-4355-a182-694a08b6cadd",
   "metadata": {},
   "outputs": [],
   "source": []
  },
  {
   "cell_type": "code",
   "execution_count": 3,
   "id": "a0532f39-b595-444a-964c-97d1fd63721c",
   "metadata": {},
   "outputs": [],
   "source": [
    "#Q2"
   ]
  },
  {
   "cell_type": "code",
   "execution_count": null,
   "id": "6320d09d-63b7-428a-9f64-69b87a4ff90f",
   "metadata": {},
   "outputs": [],
   "source": [
    "A one tailed test is based on a uni directional hypothesis where the area of rejection is on only one side of the sampling distribution. \n",
    "It determined whethere a particular parameter is larger or smaller than the predefined parameter. \n"
   ]
  },
  {
   "cell_type": "code",
   "execution_count": null,
   "id": "8f36499a-76de-4e80-9a2a-abaf6fa4a5ee",
   "metadata": {},
   "outputs": [],
   "source": [
    "A two tailed test is a unidirectional test, for checking whether the sample is greater or less than a range of values. "
   ]
  },
  {
   "cell_type": "code",
   "execution_count": null,
   "id": "0a0783e6-08c7-40a1-8d3d-1af64ca96502",
   "metadata": {},
   "outputs": [],
   "source": []
  },
  {
   "cell_type": "code",
   "execution_count": 1,
   "id": "6dba40db-96c1-4fd1-b784-c057b9c44b41",
   "metadata": {},
   "outputs": [],
   "source": [
    "#Q3"
   ]
  },
  {
   "cell_type": "code",
   "execution_count": null,
   "id": "b06399fd-43e3-4458-a844-6e8199a15366",
   "metadata": {},
   "outputs": [],
   "source": [
    "Type1 Error : Reject a True Null Hypothesis\n",
    "Type2 Error : Accepting a False Null Hypothesis"
   ]
  },
  {
   "cell_type": "code",
   "execution_count": null,
   "id": "bcdd489c-40b1-4782-80bd-455d2f6c27f0",
   "metadata": {},
   "outputs": [],
   "source": []
  },
  {
   "cell_type": "code",
   "execution_count": 2,
   "id": "3fba5196-83f4-45da-b626-391dca98e9e0",
   "metadata": {},
   "outputs": [],
   "source": [
    "##Q4"
   ]
  },
  {
   "cell_type": "code",
   "execution_count": null,
   "id": "d5ecefde-f141-4233-afaf-73173d0ccb66",
   "metadata": {},
   "outputs": [],
   "source": [
    "Bayes's Theorem : Bayes theorem is used to determine the conditional probability of the event.  \n",
    "\n",
    "It is used to find the probabilty of the event based on the prior knowledge of conditions about the event or that might be related to the event. "
   ]
  },
  {
   "cell_type": "code",
   "execution_count": null,
   "id": "1dbc0cf9-8a8a-4b89-a542-425bfa66bf3b",
   "metadata": {},
   "outputs": [],
   "source": [
    "Bayes theorem is used to determine the conditional probabilty of the event A when event B has already occured. "
   ]
  },
  {
   "cell_type": "code",
   "execution_count": null,
   "id": "53d225e4-4b23-4830-bf1b-a62314913467",
   "metadata": {},
   "outputs": [],
   "source": [
    "P(A/B) = P(B/A)*P(A)/ P(B) "
   ]
  },
  {
   "cell_type": "code",
   "execution_count": null,
   "id": "884239c3-45bc-4f0d-908c-361ad07f8188",
   "metadata": {},
   "outputs": [],
   "source": []
  },
  {
   "cell_type": "code",
   "execution_count": 3,
   "id": "9ebad182-8637-41a1-b9b4-df939b7f7db5",
   "metadata": {},
   "outputs": [],
   "source": [
    "#Q5"
   ]
  },
  {
   "cell_type": "code",
   "execution_count": null,
   "id": "fab2c2ce-af0f-4bba-996c-100b2bc5f83c",
   "metadata": {},
   "outputs": [],
   "source": [
    "Confidence interval is a range where we are certain that the true value exists."
   ]
  },
  {
   "cell_type": "code",
   "execution_count": null,
   "id": "93e8daae-59aa-41fa-ba92-b5023e2ef1e1",
   "metadata": {},
   "outputs": [],
   "source": [
    "The selection of a confidence level for an interval determines the probability that the confidence interval will contain the true parameter value. "
   ]
  },
  {
   "cell_type": "code",
   "execution_count": null,
   "id": "04dbba80-e9ec-442b-b1b3-704a6c2486ed",
   "metadata": {},
   "outputs": [],
   "source": [
    "If we calculate a 95% confidence interval for a population’s average height, \n",
    "and we randomly select a sample of 50 students and calculate their average height to be 165 cm for instance, \n",
    "and the result is a range of 160 to 170 cm, this suggests that if we were to take multiple samples \n",
    "and create confidence intervals in the same manner, \n",
    "we should anticipate that approximately 95% of those intervals would contain the population’s true average height."
   ]
  },
  {
   "cell_type": "code",
   "execution_count": null,
   "id": "fb059fe9-0512-4462-9195-927fc045ed62",
   "metadata": {},
   "outputs": [],
   "source": [
    "Steps to identify the confidence interval: \n",
    "1. Identify Point Estimate\n",
    "2. Select confidence level \n",
    "3. Find the margin of error \n",
    "(a) Find the critical value\n",
    "(b) 1 Tail or 2 Tail \n",
    "(c) Adjust Alpha (Divide by 2 for 2 Tail Test) \n",
    "(d) Find the critical value from Z or T or different tables \n",
    "4. Specify the confidence Interval "
   ]
  },
  {
   "cell_type": "code",
   "execution_count": null,
   "id": "5cda4731-f70b-4e84-94a4-d9297415e01d",
   "metadata": {},
   "outputs": [],
   "source": []
  },
  {
   "cell_type": "code",
   "execution_count": 4,
   "id": "b7029a03-ce19-4bcb-aff6-927553732346",
   "metadata": {},
   "outputs": [],
   "source": [
    "# Q6"
   ]
  },
  {
   "cell_type": "code",
   "execution_count": null,
   "id": "ece4f2be-d45f-4927-9909-271f21b65e75",
   "metadata": {},
   "outputs": [],
   "source": [
    "P(A/B) = P(B/A)* P(A)/ P(B) "
   ]
  },
  {
   "cell_type": "code",
   "execution_count": null,
   "id": "d1a91093-0ace-4ccb-bd1f-08d5a07abecc",
   "metadata": {},
   "outputs": [],
   "source": []
  },
  {
   "cell_type": "code",
   "execution_count": 5,
   "id": "7cd59145-4680-4397-aee2-8100f9a2f3ac",
   "metadata": {},
   "outputs": [],
   "source": [
    "# Q7"
   ]
  },
  {
   "cell_type": "code",
   "execution_count": null,
   "id": "65d3a17e-0899-4f3b-b92b-9ef305c6c02c",
   "metadata": {},
   "outputs": [],
   "source": [
    "C.I. = 95%\n",
    "mean = 50 \n",
    "s = 5\n",
    "Alpha = 0.05"
   ]
  },
  {
   "cell_type": "code",
   "execution_count": 6,
   "id": "4b22f37c-d4a4-4b7f-b2ea-0ff16e64e5fd",
   "metadata": {},
   "outputs": [],
   "source": [
    "68-95-99.7 Rule\n",
    "for 95"
   ]
  },
  {
   "cell_type": "code",
   "execution_count": null,
   "id": "c4484a07-036d-4f4c-9463-af8981e0cc1d",
   "metadata": {},
   "outputs": [],
   "source": [
    "mean + 2s\n",
    "50 +- 2*5"
   ]
  },
  {
   "cell_type": "code",
   "execution_count": null,
   "id": "c571497d-2b32-455d-b163-8abf8b11fdc7",
   "metadata": {},
   "outputs": [],
   "source": []
  },
  {
   "cell_type": "code",
   "execution_count": 8,
   "id": "ac52b2dc-6ac5-4a17-ae20-ec17c2a758ed",
   "metadata": {},
   "outputs": [],
   "source": [
    "#Q8"
   ]
  },
  {
   "cell_type": "code",
   "execution_count": null,
   "id": "cc830931-f21c-4804-b150-dd001b29fffd",
   "metadata": {},
   "outputs": [],
   "source": [
    "Margin of Error : Range of uncertanity around a estimate or measurment.  "
   ]
  },
  {
   "cell_type": "code",
   "execution_count": null,
   "id": "5598bd62-1d2c-46a5-a007-5871a6bee68a",
   "metadata": {},
   "outputs": [],
   "source": [
    "E = Z * sigma / sqrt(n) "
   ]
  },
  {
   "cell_type": "code",
   "execution_count": null,
   "id": "f0be0c70-19eb-4a91-a5a7-cfac83875a55",
   "metadata": {},
   "outputs": [],
   "source": [
    "The more the sample size the less the margin of error is. "
   ]
  },
  {
   "cell_type": "code",
   "execution_count": null,
   "id": "af545f86-55dd-4649-b530-5a237ff15aab",
   "metadata": {},
   "outputs": [],
   "source": []
  },
  {
   "cell_type": "code",
   "execution_count": 9,
   "id": "c761456c-9a15-4fe3-8b6b-b68eb3ac55ae",
   "metadata": {},
   "outputs": [],
   "source": [
    "#Q9"
   ]
  },
  {
   "cell_type": "code",
   "execution_count": 10,
   "id": "e69a66d1-a863-42c9-bc23-4b1ef4147ba1",
   "metadata": {},
   "outputs": [],
   "source": [
    "X = 75\n",
    "Xi = 70\n",
    "SD = 5 \n",
    "\n",
    "Z = (X- Xi)/SD "
   ]
  },
  {
   "cell_type": "code",
   "execution_count": 12,
   "id": "53c79426-3a90-41c4-879e-f752c84f9a55",
   "metadata": {},
   "outputs": [
    {
     "name": "stdout",
     "output_type": "stream",
     "text": [
      "1.0\n"
     ]
    }
   ],
   "source": [
    "print(Z)"
   ]
  },
  {
   "cell_type": "code",
   "execution_count": null,
   "id": "f42274c9-e7e2-4fbe-97dc-4653d3d57270",
   "metadata": {},
   "outputs": [],
   "source": [
    "The value is 1 Standard deviation away from the mean. "
   ]
  },
  {
   "cell_type": "code",
   "execution_count": null,
   "id": "77e6b4f1-9b81-4d64-9d04-ccb8c4cc4027",
   "metadata": {},
   "outputs": [],
   "source": []
  },
  {
   "cell_type": "code",
   "execution_count": 13,
   "id": "a2eacf0b-01de-4787-95f7-652afc96f570",
   "metadata": {},
   "outputs": [],
   "source": [
    "#Q10"
   ]
  },
  {
   "cell_type": "code",
   "execution_count": 15,
   "id": "4821e8e0-10b4-4f90-9300-43217cd5af36",
   "metadata": {},
   "outputs": [],
   "source": [
    "n = 50 \n",
    "mean = 6\n",
    "s = 2.5\n",
    "CI = 0.95\n",
    "alpha = 0.05"
   ]
  },
  {
   "cell_type": "code",
   "execution_count": 21,
   "id": "a686ad69-8acd-41fc-b2e3-c0f82c05d850",
   "metadata": {},
   "outputs": [],
   "source": [
    "from scipy import stats"
   ]
  },
  {
   "cell_type": "code",
   "execution_count": 24,
   "id": "e5d36e44-0248-404d-8c86-807033c56fbd",
   "metadata": {},
   "outputs": [],
   "source": [
    "t_stat = stats.t.ppf(1-0.05,49)"
   ]
  },
  {
   "cell_type": "code",
   "execution_count": 25,
   "id": "1363834c-bf26-4185-a7b8-d8a696b78233",
   "metadata": {},
   "outputs": [
    {
     "data": {
      "text/plain": [
       "1.6765508919142629"
      ]
     },
     "execution_count": 25,
     "metadata": {},
     "output_type": "execute_result"
    }
   ],
   "source": [
    "t_stat"
   ]
  },
  {
   "cell_type": "code",
   "execution_count": null,
   "id": "5d5021bf-2d92-4142-a684-d53c54867187",
   "metadata": {},
   "outputs": [],
   "source": []
  },
  {
   "cell_type": "code",
   "execution_count": null,
   "id": "833a68aa-094d-4dc5-b164-d61d955c4367",
   "metadata": {},
   "outputs": [],
   "source": []
  },
  {
   "cell_type": "code",
   "execution_count": null,
   "id": "58b30164-e9f9-4ad7-aa2a-64805e26662b",
   "metadata": {},
   "outputs": [],
   "source": []
  },
  {
   "cell_type": "code",
   "execution_count": 26,
   "id": "e8577d1f-39c5-4d29-a0fc-a1b5fc37af71",
   "metadata": {},
   "outputs": [],
   "source": [
    "#Q11"
   ]
  },
  {
   "cell_type": "code",
   "execution_count": null,
   "id": "7e45f147-1b1f-4970-9e6d-3047bec8b7e8",
   "metadata": {},
   "outputs": [],
   "source": [
    "n = 500\n",
    "65% happy \n",
    "C.I = 95%\n",
    "Alpha = 0.05"
   ]
  },
  {
   "cell_type": "code",
   "execution_count": 27,
   "id": "e2d0b644-7f77-4b1c-a605-33b83e083ded",
   "metadata": {},
   "outputs": [],
   "source": [
    "mean = 500* 0.65"
   ]
  },
  {
   "cell_type": "code",
   "execution_count": 35,
   "id": "a6a66f3e-5522-4f4e-aaff-71a5acfd8296",
   "metadata": {},
   "outputs": [],
   "source": [
    "Point_Estimate = mean"
   ]
  },
  {
   "cell_type": "code",
   "execution_count": null,
   "id": "cc3f9a47-ba2f-4795-a1b9-afaf65ebc867",
   "metadata": {},
   "outputs": [],
   "source": [
    "2 Tail test"
   ]
  },
  {
   "cell_type": "code",
   "execution_count": null,
   "id": "bd93cffe-2f6d-4b4f-9c7f-111f3088442a",
   "metadata": {},
   "outputs": [],
   "source": [
    "Critical Value "
   ]
  },
  {
   "cell_type": "code",
   "execution_count": 29,
   "id": "ee63f3f7-82a6-403a-a1f9-885129134ed7",
   "metadata": {},
   "outputs": [],
   "source": [
    "Z = stats.norm.ppf(1-0.05)"
   ]
  },
  {
   "cell_type": "code",
   "execution_count": 30,
   "id": "1cf288c7-b8f8-4d04-86dd-9f116ffa0356",
   "metadata": {},
   "outputs": [
    {
     "data": {
      "text/plain": [
       "1.6448536269514722"
      ]
     },
     "execution_count": 30,
     "metadata": {},
     "output_type": "execute_result"
    }
   ],
   "source": [
    "Z"
   ]
  },
  {
   "cell_type": "code",
   "execution_count": 32,
   "id": "841f3e1e-1d33-4d02-ad6d-28ef3070ccb3",
   "metadata": {},
   "outputs": [],
   "source": [
    "from math import sqrt\n",
    "SE = sqrt(0.65*0.35)/500"
   ]
  },
  {
   "cell_type": "code",
   "execution_count": 33,
   "id": "e4c637b6-3e75-4ce0-9c64-dbfc09c093d0",
   "metadata": {},
   "outputs": [],
   "source": [
    "E = Z*SE"
   ]
  },
  {
   "cell_type": "code",
   "execution_count": 34,
   "id": "f7d3592e-9749-49bc-a3ca-4cdd933b6c87",
   "metadata": {},
   "outputs": [
    {
     "data": {
      "text/plain": [
       "0.001569090355341854"
      ]
     },
     "execution_count": 34,
     "metadata": {},
     "output_type": "execute_result"
    }
   ],
   "source": [
    "E"
   ]
  },
  {
   "cell_type": "code",
   "execution_count": 36,
   "id": "a08175f7-7276-42d3-9b76-b51f3796d92a",
   "metadata": {},
   "outputs": [],
   "source": [
    "LB = Point_Estimate - E\n",
    "UB = Point_Estimate + E"
   ]
  },
  {
   "cell_type": "code",
   "execution_count": 37,
   "id": "dea456ce-cf5f-4b60-9aec-dd57f6adf2e9",
   "metadata": {},
   "outputs": [
    {
     "data": {
      "text/plain": [
       "[324.99843090964464, 325.00156909035536]"
      ]
     },
     "execution_count": 37,
     "metadata": {},
     "output_type": "execute_result"
    }
   ],
   "source": [
    "[LB,UB]"
   ]
  },
  {
   "cell_type": "code",
   "execution_count": null,
   "id": "4625f91c-0e1f-4c50-bc1b-7d59919197f2",
   "metadata": {},
   "outputs": [],
   "source": []
  },
  {
   "cell_type": "code",
   "execution_count": 38,
   "id": "7792d9a4-37d3-42d9-a0f1-263655fdcb80",
   "metadata": {},
   "outputs": [],
   "source": [
    "#Q12"
   ]
  },
  {
   "cell_type": "code",
   "execution_count": null,
   "id": "5579c52e-1a29-43dc-af8e-19935deb20ab",
   "metadata": {},
   "outputs": [],
   "source": [
    "H0\n",
    "mean1 = mean2\n",
    "H1\n",
    "mean1 != mean2"
   ]
  },
  {
   "cell_type": "code",
   "execution_count": null,
   "id": "70bdc46d-17a3-4ffe-9cf0-c949e860b65d",
   "metadata": {},
   "outputs": [],
   "source": [
    "t = (x1-x2)/Sp(sqrt(1/n1+1/n2)"
   ]
  },
  {
   "cell_type": "code",
   "execution_count": null,
   "id": "19920b09-196e-48a5-bec8-75ee395225f5",
   "metadata": {},
   "outputs": [],
   "source": [
    "Sp = sqrt("
   ]
  },
  {
   "cell_type": "code",
   "execution_count": null,
   "id": "6b1bc501-3ebe-418b-8de6-7edb87a23b98",
   "metadata": {},
   "outputs": [],
   "source": []
  }
 ],
 "metadata": {
  "kernelspec": {
   "display_name": "Python 3 (ipykernel)",
   "language": "python",
   "name": "python3"
  },
  "language_info": {
   "codemirror_mode": {
    "name": "ipython",
    "version": 3
   },
   "file_extension": ".py",
   "mimetype": "text/x-python",
   "name": "python",
   "nbconvert_exporter": "python",
   "pygments_lexer": "ipython3",
   "version": "3.11.7"
  }
 },
 "nbformat": 4,
 "nbformat_minor": 5
}
