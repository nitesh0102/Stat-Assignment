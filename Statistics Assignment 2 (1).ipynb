{
 "cells": [
  {
   "cell_type": "code",
   "execution_count": 1,
   "id": "fd3ffa7a-8221-4305-af9d-70112e657d5d",
   "metadata": {},
   "outputs": [],
   "source": [
    "### Q1\n"
   ]
  },
  {
   "cell_type": "markdown",
   "id": "514f6fd2-4473-4780-9bee-ffa4ac3d1603",
   "metadata": {},
   "source": [
    "Measure of central tendency :\n",
    "1. Mean\n",
    "2. Median\n",
    "3. Mode"
   ]
  },
  {
   "cell_type": "code",
   "execution_count": 3,
   "id": "6247ec22-bc7b-4d7b-b5ea-f8d038faae51",
   "metadata": {},
   "outputs": [],
   "source": [
    "# Q5 "
   ]
  },
  {
   "cell_type": "markdown",
   "id": "51b8bf8a-5418-4934-b766-50413520c18f",
   "metadata": {},
   "source": [
    "\n",
    "A measure of dispersion indicates the scattering of data. It explains the disparity of data from one another, delivering a precise view of their distribution. The measure of dispersion displays and gives us an idea about the variation and the central value of an individual item.\n",
    "\n",
    "In other words, dispersion is the extent to which values in a distribution differ from the average of the distribution. It gives us an idea about the extent to which individual items vary from one another, and from the central value."
   ]
  },
  {
   "cell_type": "markdown",
   "id": "7fee7939-1edd-42d1-b50e-b5b222725deb",
   "metadata": {},
   "source": [
    "Range : It is the simplest method of measurement of dispersion and defines the difference between the largest and the smallest item in a given distribution. If Y max and Y min are the two ultimate items, then\n",
    "\n",
    "Range = Y max – Y min"
   ]
  },
  {
   "cell_type": "markdown",
   "id": "0abbc6cc-503b-4bef-b61e-ab6e5d1d9886",
   "metadata": {},
   "source": [
    " Standard deviation is the square root of the arithmetic average of the square of the deviations measured from the mean. The standard deviation is given as,\n",
    "\n",
    "σ = [(Σi (yi – ȳ) ⁄ n] ½ = [(Σ i yi 2 ⁄ n) – ȳ 2] ½\n",
    "\n"
   ]
  },
  {
   "cell_type": "code",
   "execution_count": null,
   "id": "d9b1b3ee-fefc-4268-963f-f622b15ab33d",
   "metadata": {},
   "outputs": [],
   "source": [
    "SD = (sum(x - X(mean))/n) ^1/2"
   ]
  },
  {
   "cell_type": "code",
   "execution_count": 4,
   "id": "57bcd2bc-7440-47d9-bee0-e5ab63889b52",
   "metadata": {},
   "outputs": [],
   "source": [
    "####### Q9"
   ]
  },
  {
   "cell_type": "markdown",
   "id": "4b18b825-7bb1-494d-994c-860619101637",
   "metadata": {},
   "source": [
    "Right Skew data will have \n",
    "Median < Mean"
   ]
  },
  {
   "cell_type": "code",
   "execution_count": 5,
   "id": "06dc8390-a91f-434a-b109-000f01fd89be",
   "metadata": {},
   "outputs": [],
   "source": [
    "## Q10"
   ]
  },
  {
   "cell_type": "code",
   "execution_count": null,
   "id": "06b67009-c6e5-457d-a565-506a1ad30f0e",
   "metadata": {},
   "outputs": [],
   "source": [
    "Covariance vs Correlation "
   ]
  },
  {
   "cell_type": "markdown",
   "id": "2750852d-0d29-441e-8169-eefbe3c4745e",
   "metadata": {},
   "source": [
    "Both covariance and correlation measure the relationship and the dependency between two variables. Covariance indicates the direction of the linear relationship between variables. Correlation measures both the strength and direction of the linear relationship between two variables. Correlation values are standardized."
   ]
  },
  {
   "cell_type": "code",
   "execution_count": 6,
   "id": "c80a220b-5ad3-43c2-bf4a-72bca613bf85",
   "metadata": {},
   "outputs": [],
   "source": [
    "### Q11"
   ]
  },
  {
   "cell_type": "markdown",
   "id": "75c103b2-d6dc-48a6-a14d-ccd7b9b150bb",
   "metadata": {},
   "source": [
    "The formula used for the sample mean evaluation is: x̄ =∑xi /n"
   ]
  },
  {
   "cell_type": "code",
   "execution_count": 7,
   "id": "cfeeb2e0-b03e-4d92-9ac5-a1bc4b0c10f2",
   "metadata": {},
   "outputs": [],
   "source": [
    "#Q12"
   ]
  },
  {
   "cell_type": "markdown",
   "id": "76b60a02-ebf3-4415-a8dc-b25745b2970f",
   "metadata": {},
   "source": [
    "Mean = Mode = Median"
   ]
  },
  {
   "cell_type": "code",
   "execution_count": 8,
   "id": "e96b2548-6041-4c80-8eef-e70f9adfa35e",
   "metadata": {},
   "outputs": [],
   "source": [
    "# Q13"
   ]
  },
  {
   "cell_type": "code",
   "execution_count": null,
   "id": "a955dd89-1857-4be0-aeee-b01c735d9e60",
   "metadata": {},
   "outputs": [],
   "source": [
    "Covariance indicated the direction of the linear relationship between variables vs \n",
    "correlation measure both the strength and direction of the linear relationship between two variables. "
   ]
  },
  {
   "cell_type": "code",
   "execution_count": 9,
   "id": "b823a4ff-44c6-42f0-8111-feb29d10f73f",
   "metadata": {},
   "outputs": [],
   "source": [
    "# Q14"
   ]
  },
  {
   "cell_type": "markdown",
   "id": "a9b4854e-d3de-4e3b-abcb-2b9eb11806f3",
   "metadata": {},
   "source": [
    "Outliers increases standard deviation "
   ]
  }
 ],
 "metadata": {
  "kernelspec": {
   "display_name": "Python 3 (ipykernel)",
   "language": "python",
   "name": "python3"
  },
  "language_info": {
   "codemirror_mode": {
    "name": "ipython",
    "version": 3
   },
   "file_extension": ".py",
   "mimetype": "text/x-python",
   "name": "python",
   "nbconvert_exporter": "python",
   "pygments_lexer": "ipython3",
   "version": "3.11.7"
  }
 },
 "nbformat": 4,
 "nbformat_minor": 5
}
