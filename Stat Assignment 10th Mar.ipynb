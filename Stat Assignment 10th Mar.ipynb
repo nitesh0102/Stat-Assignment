{
 "cells": [
  {
   "cell_type": "code",
   "execution_count": null,
   "id": "3ad60ead-4952-4038-ace3-66c363103f6f",
   "metadata": {},
   "outputs": [],
   "source": [
    "Q1: What is Estimation Statistics? Explain point estimate and interval estimate."
   ]
  },
  {
   "cell_type": "code",
   "execution_count": null,
   "id": "0d6a61b2-ca5d-4c7e-a8c2-38cecc73b907",
   "metadata": {},
   "outputs": [],
   "source": [
    "Ans : Estimation is the way of predicting unknown population parameter. "
   ]
  },
  {
   "cell_type": "code",
   "execution_count": null,
   "id": "d3660c07-37b2-48c6-9eba-11538beb5eb6",
   "metadata": {},
   "outputs": [],
   "source": [
    "Point Estimate : A single value to predict unknown population parameter. \n",
    "Interval Estimate : A range to predict unknown population parameter, it is also called confidence interval. "
   ]
  },
  {
   "cell_type": "code",
   "execution_count": null,
   "id": "0826f41b-4972-48a1-aae9-4f7d89ea226c",
   "metadata": {},
   "outputs": [],
   "source": []
  },
  {
   "cell_type": "code",
   "execution_count": null,
   "id": "09246e4b-4e94-4ba2-9833-aadd3fa71555",
   "metadata": {},
   "outputs": [],
   "source": [
    "Q2. Write a Python function to estimate the population mean using a sample mean and standard\n",
    "deviation."
   ]
  },
  {
   "cell_type": "code",
   "execution_count": null,
   "id": "23c1ff88-7326-47bd-9283-82079ec886af",
   "metadata": {},
   "outputs": [],
   "source": []
  },
  {
   "cell_type": "code",
   "execution_count": null,
   "id": "5933a035-842d-46d1-9191-cc8e30d68918",
   "metadata": {},
   "outputs": [],
   "source": []
  },
  {
   "cell_type": "code",
   "execution_count": null,
   "id": "79d365ff-5cf2-49af-b519-8cad3bb87703",
   "metadata": {},
   "outputs": [],
   "source": []
  },
  {
   "cell_type": "code",
   "execution_count": null,
   "id": "6a4f7666-efad-4917-8768-a2ec2c535e11",
   "metadata": {},
   "outputs": [],
   "source": [
    "Q3: What is Hypothesis testing? Why is it used? State the importance of Hypothesis testing."
   ]
  },
  {
   "cell_type": "code",
   "execution_count": null,
   "id": "a997fd91-3890-4d0c-b655-98d6491a4e0c",
   "metadata": {},
   "outputs": [],
   "source": [
    "Ans : Hypothesis testing is a statistical method to determine if the data have enough evidence to support a particular hypothesis. "
   ]
  },
  {
   "cell_type": "code",
   "execution_count": null,
   "id": "c3f48ea3-10ef-4862-b6c7-5edf4e2e7bed",
   "metadata": {},
   "outputs": [],
   "source": [
    "Hypothesis testing is used to assess the plausibility of a hypothesis by using sample data.\n",
    "The test provides evidence concerning the plausibility of the hypothesis, given the data.\n",
    "Statistical analysts test a hypothesis by measuring and examining a random sample of the population being analyzed."
   ]
  },
  {
   "cell_type": "code",
   "execution_count": null,
   "id": "905f387a-fa04-4c7e-a953-30add11cf394",
   "metadata": {},
   "outputs": [],
   "source": [
    "What are the Benefits of Hypothesis Testing?\n",
    "Hypothesis testing helps assess the accuracy of new ideas or theories by testing them against data. \n",
    "This allows researchers to determine whether the evidence supports their hypothesis, helping to avoid false claims and conclusions.\n",
    "Hypothesis testing also provides a framework for decision-making based on data rather than personal opinions or biases. \n",
    "By relying on statistical analysis, hypothesis testing helps to reduce the effects of chance and confounding variables, providing a robust framework for making informed conclusions."
   ]
  },
  {
   "cell_type": "code",
   "execution_count": null,
   "id": "c4b585da-8f29-4a5b-a0f8-f5641174f51d",
   "metadata": {},
   "outputs": [],
   "source": []
  },
  {
   "cell_type": "code",
   "execution_count": null,
   "id": "44474f59-657f-49aa-8995-f39aa3cc62c4",
   "metadata": {},
   "outputs": [],
   "source": [
    "Q4. Create a hypothesis that states whether the average weight of male college students is greater than\n",
    "the average weight of female college students."
   ]
  },
  {
   "cell_type": "code",
   "execution_count": null,
   "id": "4e28b166-2d3e-4ff5-bdfd-7498a77fca8c",
   "metadata": {},
   "outputs": [],
   "source": [
    "Ans: Null Hypothesis H0 = Weight(M) > Weight(W)\n",
    "H1 =  Weight(M) < Weight(W)\n"
   ]
  },
  {
   "cell_type": "code",
   "execution_count": null,
   "id": "62ac8856-6090-40d0-837d-add3ce31ff80",
   "metadata": {},
   "outputs": [],
   "source": []
  },
  {
   "cell_type": "code",
   "execution_count": null,
   "id": "ccebb04b-038d-42f0-85f4-c88986a22ddd",
   "metadata": {},
   "outputs": [],
   "source": [
    "Q5. Write a Python script to conduct a hypothesis test on the difference between two population means,\n",
    "given a sample from each population."
   ]
  },
  {
   "cell_type": "code",
   "execution_count": null,
   "id": "6e8f65e8-8ce3-4aae-8c30-66aa0c2590c4",
   "metadata": {},
   "outputs": [],
   "source": []
  },
  {
   "cell_type": "code",
   "execution_count": null,
   "id": "99c301a5-f6a8-4f66-bcd1-bd676b2451a7",
   "metadata": {},
   "outputs": [],
   "source": []
  },
  {
   "cell_type": "code",
   "execution_count": null,
   "id": "ad221f8b-2c7e-453a-aad7-6367160c6132",
   "metadata": {},
   "outputs": [],
   "source": []
  },
  {
   "cell_type": "code",
   "execution_count": null,
   "id": "b120c5ea-d1a6-48c5-9119-28a7feac03f7",
   "metadata": {},
   "outputs": [],
   "source": [
    "Q6: What is a null and alternative hypothesis? Give some examples."
   ]
  },
  {
   "cell_type": "code",
   "execution_count": null,
   "id": "ffff91e1-de0c-4b8e-803b-bf5bf9bb70e5",
   "metadata": {},
   "outputs": [],
   "source": [
    "Ans : Null Hypothesis is the assumptions you are beigining with and alternate is the reverse of the null hypothesis. "
   ]
  },
  {
   "cell_type": "code",
   "execution_count": null,
   "id": "b7cf2688-973f-4bab-ba6c-8ab0a8ad4d6a",
   "metadata": {},
   "outputs": [],
   "source": []
  },
  {
   "cell_type": "code",
   "execution_count": null,
   "id": "cc72f636-822d-4caa-9171-f15512b0a0cc",
   "metadata": {},
   "outputs": [],
   "source": [
    "Q7: Write down the steps involved in hypothesis testing."
   ]
  },
  {
   "cell_type": "code",
   "execution_count": null,
   "id": "3047eb73-8a0d-44a6-a560-759afe760bb5",
   "metadata": {},
   "outputs": [],
   "source": [
    "1. Create Null Hypothesis\n",
    "2. Create alternate hypothesis\n",
    "3. Do tests\n",
    "4. Accept or reject "
   ]
  },
  {
   "cell_type": "code",
   "execution_count": null,
   "id": "6067e6dc-a265-41d4-8efc-dafa7fed19cc",
   "metadata": {},
   "outputs": [],
   "source": []
  },
  {
   "cell_type": "code",
   "execution_count": null,
   "id": "92742a64-553f-4475-859e-e0b1a7c47920",
   "metadata": {},
   "outputs": [],
   "source": [
    "Q8: Define p-value and explain its significance in hypothesis testing. "
   ]
  },
  {
   "cell_type": "code",
   "execution_count": null,
   "id": "3a5ff6e8-2c2c-48fd-b6a9-1c07d2786086",
   "metadata": {},
   "outputs": [],
   "source": [
    "Ans: P value or probability value tells you how likely your data could have occured under the null hypothesis. "
   ]
  },
  {
   "cell_type": "code",
   "execution_count": null,
   "id": "634eaa9a-8f22-4598-85ae-b337d55780b9",
   "metadata": {},
   "outputs": [],
   "source": [
    "The p value tells you how often you would expect to see a test statistic as extreme or more extreme than the one calculated by \n",
    "your statistical test if the null hypothesis of the test was true. \n",
    "\n",
    "In simple words higher the p value more the chance of null hypothesis being true. \n",
    "\n"
   ]
  },
  {
   "cell_type": "code",
   "execution_count": null,
   "id": "0b2163a8-9ed8-4cd5-9a9a-aefbe487a842",
   "metadata": {},
   "outputs": [],
   "source": [
    "Example: Test statistic and p value\n",
    "If the mice live equally long on either diet, then the test statistic from your t test will closely match the test statistic from the null hypothesis\n",
    "(that there is no difference between groups), and the resulting p value will be close to 1. \n",
    "It likely won’t reach exactly 1, because in real life the groups will probably not be perfectly equal.\n",
    "If, however, there is an average difference in longevity between the two groups, then your test statistic will move further away from the values predicted by the null hypothesis, and the p value will get smaller. The p value will never reach zero, because there’s always a possibility, even if extremely unlikely, that the patterns in your data occurred by chance."
   ]
  },
  {
   "cell_type": "code",
   "execution_count": null,
   "id": "d0a63d46-de38-4ce8-9e96-adffb3da5132",
   "metadata": {},
   "outputs": [],
   "source": []
  },
  {
   "cell_type": "code",
   "execution_count": null,
   "id": "f6a9e28c-7b6e-4ae5-8dce-dfc1c27359b3",
   "metadata": {},
   "outputs": [],
   "source": [
    "Q11: What is a student T distribution? when to use T distribution."
   ]
  },
  {
   "cell_type": "code",
   "execution_count": null,
   "id": "3f916c5d-514a-43c0-b0d6-f6a225bc8155",
   "metadata": {},
   "outputs": [],
   "source": [
    "Ans: Student's T - Distribution is a continous probability distribution that generalizes the standard normal distribution."
   ]
  },
  {
   "cell_type": "code",
   "execution_count": null,
   "id": "ba28e94f-de36-4268-87cb-7ebf4e7d7e7e",
   "metadata": {},
   "outputs": [],
   "source": [
    "It assess the statistical significance of the difference between two sample means. \n",
    "\n",
    "In Z Test we need population standard deviation but what if we don't have population standard deviation (sigma), how we will perform \n",
    "the analysis. we use T distribuiton in this case. "
   ]
  },
  {
   "cell_type": "code",
   "execution_count": null,
   "id": "88a29b7e-7551-4df8-9463-f0fdc1f6773a",
   "metadata": {},
   "outputs": [],
   "source": []
  },
  {
   "cell_type": "code",
   "execution_count": null,
   "id": "718f17ec-2890-4ff8-b278-0d67534d0e51",
   "metadata": {},
   "outputs": [],
   "source": [
    "Q12. What is T-statistic and it's formula?"
   ]
  },
  {
   "cell_type": "code",
   "execution_count": null,
   "id": "7a4eb275-196d-45eb-a6bb-64e3d86177ac",
   "metadata": {},
   "outputs": [],
   "source": [
    "Ans: T-stat =  (Xi-Xmean)/(s/sqrt(n))\n",
    "\n",
    "s = sample standard deviation \n",
    "n = number of samples\n",
    "\n",
    "DF is degree of freedom and used with T table. "
   ]
  },
  {
   "cell_type": "code",
   "execution_count": null,
   "id": "b2481a2d-6797-4ab0-a07f-480912b142bc",
   "metadata": {},
   "outputs": [],
   "source": []
  },
  {
   "cell_type": "code",
   "execution_count": null,
   "id": "882c2f54-fba2-4b3d-b449-39059b23aee7",
   "metadata": {},
   "outputs": [],
   "source": [
    "#Q9"
   ]
  },
  {
   "cell_type": "code",
   "execution_count": 64,
   "id": "667c7e8b-2f6a-4c50-bb68-92f0a301a2de",
   "metadata": {},
   "outputs": [],
   "source": [
    "from scipy.stats import t"
   ]
  },
  {
   "cell_type": "code",
   "execution_count": 69,
   "id": "49cbbed7-3342-44db-9d77-55981c41af45",
   "metadata": {},
   "outputs": [],
   "source": [
    "a,b = 4,3\n",
    "rv = t(a,b)"
   ]
  },
  {
   "cell_type": "code",
   "execution_count": 70,
   "id": "a38e9a9d-2533-4301-8ea1-fce3eb750a6d",
   "metadata": {},
   "outputs": [],
   "source": [
    "random_values = rv.rvs(size = 10)"
   ]
  },
  {
   "cell_type": "code",
   "execution_count": 71,
   "id": "d9cb2bbe-7be8-4f5a-99a6-e0950a32ff25",
   "metadata": {},
   "outputs": [
    {
     "data": {
      "text/plain": [
       "array([1.90791242, 4.70702146, 1.58426754, 3.98115215, 3.78415253,\n",
       "       3.21542357, 2.06359533, 2.92194929, 3.43834511, 2.41445928])"
      ]
     },
     "execution_count": 71,
     "metadata": {},
     "output_type": "execute_result"
    }
   ],
   "source": [
    "random_values"
   ]
  },
  {
   "cell_type": "code",
   "execution_count": 72,
   "id": "fb1bdd42-fc2b-451b-bfe4-f219900b92c3",
   "metadata": {},
   "outputs": [
    {
     "data": {
      "text/plain": [
       "3.122753921018068"
      ]
     },
     "execution_count": 72,
     "metadata": {},
     "output_type": "execute_result"
    }
   ],
   "source": [
    "random_values.max() - random_values.min()"
   ]
  },
  {
   "cell_type": "code",
   "execution_count": 73,
   "id": "609375b1-9904-4b40-ad9d-9268b32ab740",
   "metadata": {},
   "outputs": [
    {
     "name": "stdout",
     "output_type": "stream",
     "text": [
      "Random Variates :  0.8306522556830807\n",
      "Probability Distribution :  [0.00924092 0.01006157 0.01097128 0.0119813  0.01310443 0.01435532\n",
      " 0.01575068 0.01730965 0.01905409 0.02100903]\n"
     ]
    }
   ],
   "source": [
    "import numpy as np\n",
    "quantile = np.arange(0.01, 1, 0.1)\n",
    "\n",
    "# Random Variates\n",
    "R = t.rvs(a, b)\n",
    "print(\"Random Variates : \", R)\n",
    "\n",
    "# PDF\n",
    "R = t.pdf(a, b, quantile)\n",
    "print(\"Probability Distribution : \", R)\n"
   ]
  },
  {
   "cell_type": "code",
   "execution_count": 76,
   "id": "9a6e64ef-ad56-4548-95b0-cdf75d48310f",
   "metadata": {},
   "outputs": [
    {
     "name": "stdout",
     "output_type": "stream",
     "text": [
      "Distribution: [0.         0.06122449 0.12244898 0.18367347 0.24489796 0.30612245\n",
      " 0.36734694 0.42857143 0.48979592 0.55102041 0.6122449  0.67346939\n",
      " 0.73469388 0.79591837 0.85714286 0.91836735 0.97959184 1.04081633\n",
      " 1.10204082 1.16326531 1.2244898  1.28571429 1.34693878 1.40816327\n",
      " 1.46938776 1.53061224 1.59183673 1.65306122 1.71428571 1.7755102\n",
      " 1.83673469 1.89795918 1.95918367 2.02040816 2.08163265 2.14285714\n",
      " 2.20408163 2.26530612 2.32653061 2.3877551  2.44897959 2.51020408\n",
      " 2.57142857 2.63265306 2.69387755 2.75510204 2.81632653 2.87755102\n",
      " 2.93877551 3.        ]\n"
     ]
    },
    {
     "data": {
      "image/png": "[encoded data removed]",
      "text/plain": [
       "<Figure size 640x480 with 1 Axes>"
      ]
     },
     "metadata": {},
     "output_type": "display_data"
    }
   ],
   "source": [
    "import numpy as np\n",
    "import matplotlib.pyplot as plt\n",
    "\n",
    "distribution = np.linspace(0, np.minimum(rv.dist.b, 3))\n",
    "print(\"Distribution:\" , distribution)\n",
    "\n",
    "plot = plt.plot(distribution, rv.pdf(distribution))\n"
   ]
  },
  {
   "cell_type": "code",
   "execution_count": null,
   "id": "3ec5e821-0af6-4eb3-85ba-010042f974f5",
   "metadata": {},
   "outputs": [],
   "source": []
  },
  {
   "cell_type": "code",
   "execution_count": 77,
   "id": "83bf13dc-f672-4d43-a4e0-73e26a1f3ac3",
   "metadata": {},
   "outputs": [],
   "source": [
    "#Q10"
   ]
  },
  {
   "cell_type": "code",
   "execution_count": 78,
   "id": "8c9a743a-b8d8-4c5c-bdf8-20a9343f555b",
   "metadata": {},
   "outputs": [
    {
     "name": "stdout",
     "output_type": "stream",
     "text": [
      "7.727500000000001 12.260000000000002\n"
     ]
    }
   ],
   "source": [
    "# Python program to display variance of data groups\n",
    "\n",
    "# Import library\n",
    "import scipy.stats as stats\n",
    "\n",
    "# Creating data groups\n",
    "data_group1 = np.array([14, 15, 15, 16, 13, 8, 14,\n",
    "\t\t\t\t\t\t17, 16, 14, 19, 20, 21, 15,\n",
    "\t\t\t\t\t\t15, 16, 16, 13, 14, 12])\n",
    "data_group2 = np.array([15, 17, 14, 17, 14, 8, 12,\n",
    "\t\t\t\t\t\t19, 19, 14, 17, 22, 24, 16,\n",
    "\t\t\t\t\t\t13, 16, 13, 18, 15, 13])\n",
    "\n",
    "# Print the variance of both data groups\n",
    "print(np.var(data_group1), np.var(data_group2))"
   ]
  },
  {
   "cell_type": "code",
   "execution_count": 79,
   "id": "83e839d7-bf4f-4db7-950e-398834eb5044",
   "metadata": {},
   "outputs": [
    {
     "data": {
      "text/plain": [
       "TtestResult(statistic=-0.6337397070250238, pvalue=0.5300471010405257, df=38.0)"
      ]
     },
     "execution_count": 79,
     "metadata": {},
     "output_type": "execute_result"
    }
   ],
   "source": [
    "stats.ttest_ind(a=data_group1, b=data_group2, equal_var=True)"
   ]
  },
  {
   "cell_type": "code",
   "execution_count": null,
   "id": "25a86b8e-e220-4c57-a003-8f42fe9f654e",
   "metadata": {},
   "outputs": [],
   "source": [
    "Pvalue is greater than 0.05 hence we can not reject the null hypothesis."
   ]
  },
  {
   "cell_type": "code",
   "execution_count": null,
   "id": "35f2d6a7-2003-4daf-a970-822b70060c74",
   "metadata": {},
   "outputs": [],
   "source": []
  },
  {
   "cell_type": "code",
   "execution_count": 80,
   "id": "733ba1cd-a1c0-4fb7-b848-cd8422600c5d",
   "metadata": {},
   "outputs": [],
   "source": [
    "## Q13"
   ]
  },
  {
   "cell_type": "code",
   "execution_count": null,
   "id": "78ff7457-db23-4b2e-bb38-81975e7f50ea",
   "metadata": {},
   "outputs": [],
   "source": [
    "n = 50\n",
    "df = 49\n",
    "s = 50\n",
    "mean = 500\n",
    "C.I = 95%\n",
    "\n"
   ]
  },
  {
   "cell_type": "code",
   "execution_count": null,
   "id": "9d595427-71a1-4187-8051-c099d9dc53a8",
   "metadata": {},
   "outputs": [],
   "source": [
    "1. Sample size is large enough to called random\n",
    "2. finding the point estimate \n",
    "\n",
    "mean = 500"
   ]
  },
  {
   "cell_type": "code",
   "execution_count": null,
   "id": "52fae819-801c-400b-8ec5-e6fe8a7859a1",
   "metadata": {},
   "outputs": [],
   "source": [
    "3. Deciding the confidence interval \n",
    "alpha = 0.05\n",
    "\n",
    "critical t-values for t 0.05/2 (49) =   +-2.311"
   ]
  },
  {
   "cell_type": "code",
   "execution_count": null,
   "id": "01dcacae-1bd7-4059-8e4d-c0baa542263f",
   "metadata": {},
   "outputs": [],
   "source": [
    "4. Margin of error \n",
    "\n",
    "E = t (alpha/2) * s / sqrt(n) \n"
   ]
  },
  {
   "cell_type": "code",
   "execution_count": 86,
   "id": "54a665fa-8e5c-4179-9a83-4b1422cc7f6b",
   "metadata": {},
   "outputs": [],
   "source": [
    "#for one tail test\n",
    "#critical_value = stats.t.ppf(1-0.025,49)"
   ]
  },
  {
   "cell_type": "code",
   "execution_count": 87,
   "id": "a0a9343b-55f2-41b9-b729-b058722b8036",
   "metadata": {},
   "outputs": [
    {
     "data": {
      "text/plain": [
       "2.009575234489209"
      ]
     },
     "execution_count": 87,
     "metadata": {},
     "output_type": "execute_result"
    }
   ],
   "source": [
    "#critical_value"
   ]
  },
  {
   "cell_type": "code",
   "execution_count": 91,
   "id": "889d410b-497f-4829-ad74-a4837a6109cb",
   "metadata": {},
   "outputs": [],
   "source": [
    "from math import sqrt\n",
    "E = 2.311 * 50 / sqrt(50)"
   ]
  },
  {
   "cell_type": "code",
   "execution_count": 92,
   "id": "593287cf-b50a-4eb6-bc82-fd83fedc8365",
   "metadata": {},
   "outputs": [
    {
     "data": {
      "text/plain": [
       "16.341237713221112"
      ]
     },
     "execution_count": 92,
     "metadata": {},
     "output_type": "execute_result"
    }
   ],
   "source": [
    "E"
   ]
  },
  {
   "cell_type": "code",
   "execution_count": null,
   "id": "2c0a548e-126e-4f32-bbd1-f2879b218443",
   "metadata": {},
   "outputs": [],
   "source": [
    "5. calculating the confidence interval \n",
    "lower and upper bounds of the confidence interval can be found by subtracting and adding the margin of error from the point estimate. \n",
    "\n",
    "lower bound is \n",
    "\n"
   ]
  },
  {
   "cell_type": "code",
   "execution_count": 93,
   "id": "d517e8b1-65b5-420c-b69a-4fa625cdb0fb",
   "metadata": {},
   "outputs": [],
   "source": [
    "LB = 500 - E\n",
    "UB = 500 + E"
   ]
  },
  {
   "cell_type": "code",
   "execution_count": 94,
   "id": "ee07cdea-7119-4188-ab8c-d460941b6f35",
   "metadata": {},
   "outputs": [],
   "source": [
    "CI = [LB,UB]"
   ]
  },
  {
   "cell_type": "code",
   "execution_count": 95,
   "id": "80df15ad-fab8-44d6-9c3f-5dd6cd24fe01",
   "metadata": {},
   "outputs": [
    {
     "data": {
      "text/plain": [
       "[483.6587622867789, 516.3412377132211]"
      ]
     },
     "execution_count": 95,
     "metadata": {},
     "output_type": "execute_result"
    }
   ],
   "source": [
    "CI"
   ]
  },
  {
   "cell_type": "code",
   "execution_count": null,
   "id": "b956bb27-86cc-4fd7-bdc8-96381dff23aa",
   "metadata": {},
   "outputs": [],
   "source": []
  },
  {
   "cell_type": "code",
   "execution_count": 96,
   "id": "23ced0a6-6ca5-46b8-a809-fe197ad4acef",
   "metadata": {},
   "outputs": [],
   "source": [
    "#Q14"
   ]
  },
  {
   "cell_type": "code",
   "execution_count": 108,
   "id": "e7b467d2-c56d-4aa3-94fc-9a07a3498ba6",
   "metadata": {},
   "outputs": [],
   "source": [
    "n = 100\n",
    "X = 10\n",
    "Xi = 8 \n",
    "s = 3\n",
    "Alpha = 0.05\n",
    "df = 99\n",
    "\n",
    "#assuming one tail test "
   ]
  },
  {
   "cell_type": "code",
   "execution_count": 100,
   "id": "e81cce1e-8054-4f78-b18c-71e5ccbf80b2",
   "metadata": {},
   "outputs": [],
   "source": [
    "tstat =  stats.t.ppf(1-0.025, 99)"
   ]
  },
  {
   "cell_type": "code",
   "execution_count": 101,
   "id": "48dc116a-e1ff-4f7b-a688-eb9ff5620ca2",
   "metadata": {},
   "outputs": [
    {
     "data": {
      "text/plain": [
       "1.9842169515086827"
      ]
     },
     "execution_count": 101,
     "metadata": {},
     "output_type": "execute_result"
    }
   ],
   "source": [
    "tstat"
   ]
  },
  {
   "cell_type": "code",
   "execution_count": 102,
   "id": "71c2da59-5ab8-49d5-95e9-d71ac6ff2059",
   "metadata": {},
   "outputs": [],
   "source": [
    "p_value = t.sf(tstat, df)"
   ]
  },
  {
   "cell_type": "code",
   "execution_count": 103,
   "id": "6cf62f1f-95eb-44eb-993e-95000b940f17",
   "metadata": {},
   "outputs": [
    {
     "data": {
      "text/plain": [
       "0.02500000000440139"
      ]
     },
     "execution_count": 103,
     "metadata": {},
     "output_type": "execute_result"
    }
   ],
   "source": [
    "p_value"
   ]
  },
  {
   "cell_type": "code",
   "execution_count": 109,
   "id": "72467d9e-ddac-4ea9-9a90-a5af16b69fa7",
   "metadata": {},
   "outputs": [
    {
     "name": "stdout",
     "output_type": "stream",
     "text": [
      "Reject the null hypothesis. There is a statistically significant difference.\n"
     ]
    }
   ],
   "source": [
    "if p_value < Alpha:\n",
    "    print( \"Reject the null hypothesis. There is a statistically significant difference.\")\n",
    "else:\n",
    "    print(\"Fail to reject the null hypothesis. There is no statistically significant difference.\")"
   ]
  },
  {
   "cell_type": "code",
   "execution_count": 113,
   "id": "68ed78f9-f77c-4c5f-a0ac-ce364dc0f812",
   "metadata": {},
   "outputs": [],
   "source": [
    "#M2\n",
    "t_stat  = 20/3"
   ]
  },
  {
   "cell_type": "code",
   "execution_count": 114,
   "id": "8c39db1d-40ea-4b31-8b17-01c6cf68726b",
   "metadata": {},
   "outputs": [
    {
     "data": {
      "text/plain": [
       "6.666666666666667"
      ]
     },
     "execution_count": 114,
     "metadata": {},
     "output_type": "execute_result"
    }
   ],
   "source": [
    "t_stat "
   ]
  },
  {
   "cell_type": "code",
   "execution_count": null,
   "id": "8fb4eb5b-de58-49bb-8c26-b284e4f226b6",
   "metadata": {},
   "outputs": [],
   "source": [
    "t value using table for df 99 and 0.05 significance = 1.984 "
   ]
  },
  {
   "cell_type": "code",
   "execution_count": null,
   "id": "c6531085-78e1-4e16-926e-77c08a10d584",
   "metadata": {},
   "outputs": [],
   "source": [
    "Since my t value is greater than null hypothesis we have to reject the null hypothesis."
   ]
  },
  {
   "cell_type": "code",
   "execution_count": null,
   "id": "7b227314-ab00-441f-a93e-d7d56fb1eec4",
   "metadata": {},
   "outputs": [],
   "source": []
  },
  {
   "cell_type": "code",
   "execution_count": 115,
   "id": "9657bc9a-33ab-44aa-a561-f19abd90a4a7",
   "metadata": {},
   "outputs": [],
   "source": [
    "#Q15"
   ]
  },
  {
   "cell_type": "code",
   "execution_count": null,
   "id": "94e6ab66-95ba-4181-a614-395cfac5edf2",
   "metadata": {},
   "outputs": [],
   "source": [
    "mean X = 5\n",
    "SD = 0.5\n",
    "n = 25\n",
    "sample mean Xi = 4.8\n",
    "alpha = 0.01"
   ]
  },
  {
   "cell_type": "code",
   "execution_count": 118,
   "id": "b9ebb5b0-4705-46b0-bbcb-89a8997de654",
   "metadata": {},
   "outputs": [],
   "source": [
    "alpha = 0.01"
   ]
  },
  {
   "cell_type": "code",
   "execution_count": 116,
   "id": "90548f87-f8c1-4391-a947-3720bfe7ea0b",
   "metadata": {},
   "outputs": [],
   "source": [
    "t_stat = 0.2/25/sqrt(0.5)"
   ]
  },
  {
   "cell_type": "code",
   "execution_count": 117,
   "id": "8b766309-71ea-427d-85a9-906bc0c7d213",
   "metadata": {},
   "outputs": [
    {
     "data": {
      "text/plain": [
       "0.01131370849898476"
      ]
     },
     "execution_count": 117,
     "metadata": {},
     "output_type": "execute_result"
    }
   ],
   "source": [
    "t_stat "
   ]
  },
  {
   "cell_type": "code",
   "execution_count": 119,
   "id": "77f35ff2-bc47-4498-850a-9ff598404bc8",
   "metadata": {},
   "outputs": [
    {
     "data": {
      "text/plain": [
       "True"
      ]
     },
     "execution_count": 119,
     "metadata": {},
     "output_type": "execute_result"
    }
   ],
   "source": [
    "t_stat > alpha "
   ]
  },
  {
   "cell_type": "code",
   "execution_count": null,
   "id": "3b6f8db4-3555-42fe-b358-97cc79e1ed21",
   "metadata": {},
   "outputs": [],
   "source": [
    "t_stat is greater than alpha so we have to reject the null hypothesis. "
   ]
  },
  {
   "cell_type": "code",
   "execution_count": null,
   "id": "949e311d-c4f2-4246-ae5c-1c0a7a392f7c",
   "metadata": {},
   "outputs": [],
   "source": []
  },
  {
   "cell_type": "code",
   "execution_count": 120,
   "id": "79e9392d-0871-4278-9863-fad2cf7be10b",
   "metadata": {},
   "outputs": [],
   "source": [
    "#Q16"
   ]
  },
  {
   "cell_type": "code",
   "execution_count": null,
   "id": "a12a8fd9-3724-435e-b2cb-e69a841dbff5",
   "metadata": {},
   "outputs": [],
   "source": [
    "t = (X1 - X2)/ sqrt( s1^2 /n1 + s2^2/n2)"
   ]
  },
  {
   "cell_type": "code",
   "execution_count": null,
   "id": "ca684517-a769-4347-a7a8-5d5cdfa738f9",
   "metadata": {},
   "outputs": [],
   "source": []
  },
  {
   "cell_type": "code",
   "execution_count": 121,
   "id": "645fca02-5960-4832-a5b0-8676e95530a8",
   "metadata": {},
   "outputs": [],
   "source": [
    "# Q17"
   ]
  },
  {
   "cell_type": "code",
   "execution_count": null,
   "id": "8c3fca0a-6031-40a0-880f-7764ee1c31f4",
   "metadata": {},
   "outputs": [],
   "source": [
    "Point_estimate = mean = 4\n",
    "SD  = 1.5\n",
    "CI = 99%\n",
    "alpha = 0.01\n",
    "n  = 50\n",
    "df = 49"
   ]
  },
  {
   "cell_type": "code",
   "execution_count": null,
   "id": "4ae5090e-f569-41c6-895c-ad77ed49df1c",
   "metadata": {},
   "outputs": [],
   "source": [
    "CV = 2.678"
   ]
  },
  {
   "cell_type": "code",
   "execution_count": 122,
   "id": "e7803a93-199c-4d7c-94c2-0b6abe3d78f6",
   "metadata": {},
   "outputs": [],
   "source": [
    "from math import sqrt\n",
    "E = 2.678 * 1.5 / sqrt(50)"
   ]
  },
  {
   "cell_type": "code",
   "execution_count": 123,
   "id": "87f45d1b-7ce0-48e4-9195-a469cb5ffdec",
   "metadata": {},
   "outputs": [
    {
     "data": {
      "text/plain": [
       "0.5680895880052722"
      ]
     },
     "execution_count": 123,
     "metadata": {},
     "output_type": "execute_result"
    }
   ],
   "source": [
    "E"
   ]
  },
  {
   "cell_type": "code",
   "execution_count": 124,
   "id": "49e2609f-0b40-4c20-aa2e-10bf65b549af",
   "metadata": {},
   "outputs": [],
   "source": [
    "LB = 4 - E\n",
    "UB = 4 + E"
   ]
  },
  {
   "cell_type": "code",
   "execution_count": 125,
   "id": "81348958-3616-46c1-9066-52a501772c85",
   "metadata": {},
   "outputs": [
    {
     "data": {
      "text/plain": [
       "[3.431910411994728, 4.5680895880052725]"
      ]
     },
     "execution_count": 125,
     "metadata": {},
     "output_type": "execute_result"
    }
   ],
   "source": [
    "[LB,UB]"
   ]
  },
  {
   "cell_type": "code",
   "execution_count": null,
   "id": "8bd9893b-628e-4185-986e-3386c400712e",
   "metadata": {},
   "outputs": [],
   "source": []
  }
 ],
 "metadata": {
  "kernelspec": {
   "display_name": "Python 3 (ipykernel)",
   "language": "python",
   "name": "python3"
  },
  "language_info": {
   "codemirror_mode": {
    "name": "ipython",
    "version": 3
   },
   "file_extension": ".py",
   "mimetype": "text/x-python",
   "name": "python",
   "nbconvert_exporter": "python",
   "pygments_lexer": "ipython3",
   "version": "3.11.7"
  }
 },
 "nbformat": 4,
 "nbformat_minor": 5
}
