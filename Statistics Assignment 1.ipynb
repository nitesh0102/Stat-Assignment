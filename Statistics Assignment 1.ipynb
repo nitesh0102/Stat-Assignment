{
 "cells": [
  {
   "cell_type": "code",
   "execution_count": 1,
   "id": "26786255-d8c0-4e42-81a2-f8f8bbeb62ed",
   "metadata": {},
   "outputs": [],
   "source": [
    "#Q1"
   ]
  },
  {
   "cell_type": "code",
   "execution_count": 2,
   "id": "9a665f9a-d210-4603-88a6-0890efe5989a",
   "metadata": {},
   "outputs": [],
   "source": [
    "# statistics is the study and manipulation of data, including ways to gather, review, analyze and draw conclusions from data. "
   ]
  },
  {
   "cell_type": "code",
   "execution_count": 3,
   "id": "c5aef5da-6f06-4a4a-b3cd-a2639d0b35cf",
   "metadata": {},
   "outputs": [],
   "source": [
    "#Q2"
   ]
  },
  {
   "cell_type": "code",
   "execution_count": 4,
   "id": "3563ae8a-97c5-4698-9da0-c32a5340c1a3",
   "metadata": {},
   "outputs": [],
   "source": [
    "# Descriptive and inferential statistics "
   ]
  },
  {
   "cell_type": "code",
   "execution_count": 5,
   "id": "7656934e-fcb3-4260-9151-dcb06a242d35",
   "metadata": {},
   "outputs": [],
   "source": [
    "# Descriptive statistics mostly focus on central tendancy, variability and distribution of sample data. \n",
    "\n",
    "## central tendancy means the estimate of the characteristics of sample data."
   ]
  },
  {
   "cell_type": "code",
   "execution_count": 6,
   "id": "163256ec-638a-4a95-adee-b0b639b100f9",
   "metadata": {},
   "outputs": [],
   "source": [
    "# inferential statistics is a tool the statisticans use to draw conclusions about the charcteristics of the population. "
   ]
  },
  {
   "cell_type": "code",
   "execution_count": 7,
   "id": "a9e7bade-2556-430b-86fb-e42fd7bb18cb",
   "metadata": {},
   "outputs": [],
   "source": [
    "#Q3"
   ]
  },
  {
   "cell_type": "code",
   "execution_count": 8,
   "id": "8c81ee38-18b6-4e74-a4d2-9b1816e91fa4",
   "metadata": {},
   "outputs": [],
   "source": [
    "# Types of data"
   ]
  },
  {
   "cell_type": "code",
   "execution_count": 9,
   "id": "ba5ef241-1382-4b08-b172-06ebe8ccba60",
   "metadata": {},
   "outputs": [],
   "source": [
    "# Categorical or Numerical "
   ]
  },
  {
   "cell_type": "code",
   "execution_count": 10,
   "id": "a5c447ec-b762-4d55-b0d2-b2b12ed7ef86",
   "metadata": {},
   "outputs": [],
   "source": [
    "# Categorical : Nominal or ordinal, Nominal data can not be ordered or measured. "
   ]
  },
  {
   "cell_type": "code",
   "execution_count": 12,
   "id": "982c90d4-b23e-4d9e-8cf7-881589c6c07e",
   "metadata": {},
   "outputs": [],
   "source": [
    "#Numerical : Discrete or continous"
   ]
  },
  {
   "cell_type": "code",
   "execution_count": 13,
   "id": "93358132-b3ef-4d7d-b4b9-7f9cf61d8680",
   "metadata": {},
   "outputs": [],
   "source": [
    "# Q4 "
   ]
  },
  {
   "cell_type": "code",
   "execution_count": 14,
   "id": "9876db48-6fe4-42c7-9495-13fb37dd31a6",
   "metadata": {},
   "outputs": [],
   "source": [
    "# 1. Ordinal\n",
    "#2. Nominal\n",
    "#3. Continous\n",
    "#4. Discrete"
   ]
  },
  {
   "cell_type": "code",
   "execution_count": 15,
   "id": "0c1ed2cb-e3c4-4554-be9d-c978b52a68a4",
   "metadata": {},
   "outputs": [],
   "source": [
    "#Q5"
   ]
  },
  {
   "cell_type": "markdown",
   "id": "1506be1f-0578-4267-a0f6-5072d6b24921",
   "metadata": {},
   "source": [
    "1. Nominal\n",
    "2.Ordinal\n",
    "3. Interval\n",
    "4. Ratio "
   ]
  },
  {
   "cell_type": "code",
   "execution_count": null,
   "id": "75701939-1933-4414-8ee3-6d3249a73b41",
   "metadata": {},
   "outputs": [],
   "source": [
    "###Q6\n",
    "Nominal : Color of eyes : Green , blue, brown\n",
    "Ordinal : School Grades : A, B, C (Rank is important) \n",
    "Interval : The interval scale is a numerical scale which labels and orders \n",
    "            variables, with a known, evenly spaced interval between each of the values. Ex: Temp, IQ Range\n",
    "Ratio : The ratio scale is exactly the same as the interval scale, with one key difference: The ratio scale has what’s known as a “true zero.”\n",
    "        Ex: Weight which if zero means nothing\n",
    "\n",
    "\n",
    "\n"
   ]
  },
  {
   "cell_type": "code",
   "execution_count": 16,
   "id": "b1b49ff0-4e4a-487f-84d6-850f77c04f99",
   "metadata": {},
   "outputs": [],
   "source": [
    "#Q7"
   ]
  },
  {
   "cell_type": "code",
   "execution_count": 18,
   "id": "439f3c8e-43d1-4d65-85e7-7efd7ad3a3b6",
   "metadata": {},
   "outputs": [],
   "source": [
    "# Nominal data can not be measured or ordered like gender whereas ordinal data is the type of categorical data which can be ordered or measured for ex: Grades of the class"
   ]
  },
  {
   "cell_type": "code",
   "execution_count": 2,
   "id": "c00abe6d-8fc6-4947-bb67-dec68b32562a",
   "metadata": {},
   "outputs": [],
   "source": [
    "#Q8"
   ]
  },
  {
   "cell_type": "code",
   "execution_count": null,
   "id": "f3d860d4-09bb-4f86-8309-7844b7cecc3e",
   "metadata": {},
   "outputs": [],
   "source": [
    "Box Chart"
   ]
  },
  {
   "cell_type": "code",
   "execution_count": 3,
   "id": "0f54f0d6-1d16-4305-bf78-7dbd69846e8a",
   "metadata": {},
   "outputs": [],
   "source": [
    "#Q9"
   ]
  },
  {
   "cell_type": "markdown",
   "id": "7da5f727-0f3f-485e-b58c-3299e589e419",
   "metadata": {},
   "source": [
    "Descritptive Statistics vs Inferential Statistics "
   ]
  },
  {
   "cell_type": "markdown",
   "id": "1df05994-bece-40e7-944f-dc7c431e321c",
   "metadata": {},
   "source": [
    "Descriptive statistics state facts and proven outcomes from a population, \n",
    "whereas inferential statistics analyze samplings to make predictions about larger populations."
   ]
  },
  {
   "cell_type": "code",
   "execution_count": 5,
   "id": "39cd1139-8ee7-4a95-bf99-f087a8d6e6ef",
   "metadata": {},
   "outputs": [],
   "source": [
    "#Q10"
   ]
  },
  {
   "cell_type": "markdown",
   "id": "5606036a-9fbc-4e04-9cdf-6ca8853c301a",
   "metadata": {},
   "source": [
    "Mesure of central tendency and variability "
   ]
  },
  {
   "cell_type": "markdown",
   "id": "d92c59d0-a328-4b1a-a85c-692714f7903e",
   "metadata": {},
   "source": [
    "Central tendency and variation are two measures used in statistics to summarize data. Measure of central tendency shows where the center or middle of the data set is located, whereas measure of variation shows the dispersion among data values."
   ]
  },
  {
   "cell_type": "code",
   "execution_count": null,
   "id": "3d1facf3-1561-4ae5-a51f-19d93200af25",
   "metadata": {},
   "outputs": [],
   "source": []
  }
 ],
 "metadata": {
  "kernelspec": {
   "display_name": "Python 3 (ipykernel)",
   "language": "python",
   "name": "python3"
  },
  "language_info": {
   "codemirror_mode": {
    "name": "ipython",
    "version": 3
   },
   "file_extension": ".py",
   "mimetype": "text/x-python",
   "name": "python",
   "nbconvert_exporter": "python",
   "pygments_lexer": "ipython3",
   "version": "3.11.7"
  }
 },
 "nbformat": 4,
 "nbformat_minor": 5
}
