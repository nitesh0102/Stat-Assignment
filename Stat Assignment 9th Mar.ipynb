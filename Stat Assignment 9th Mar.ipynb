{
 "cells": [
  {
   "cell_type": "code",
   "execution_count": null,
   "id": "69d9e6e0-65e8-4977-8caf-24f0b71fb508",
   "metadata": {},
   "outputs": [],
   "source": [
    "Q1: What are the Probability Mass Function (PMF) and Probability Density Function (PDF)? Explain with\n",
    "an example."
   ]
  },
  {
   "cell_type": "code",
   "execution_count": null,
   "id": "d9ee3a60-37f8-4b96-8217-87d242323773",
   "metadata": {},
   "outputs": [],
   "source": [
    "Ans : PMF probability mass function is function that gives the probability that a discrete random variable is excatly equal to some value. \n",
    "PMF  = discrete "
   ]
  },
  {
   "cell_type": "code",
   "execution_count": null,
   "id": "4e823cee-1cf8-43d7-bf63-2be6b2de49bc",
   "metadata": {},
   "outputs": [],
   "source": [
    "The PDF probability density function defines the proability function representing the density of a continous random variable lying between \n",
    "a specific range of values. \n",
    "PDF = continous "
   ]
  },
  {
   "cell_type": "code",
   "execution_count": null,
   "id": "3434daba-547f-4845-885a-5e2183e2333c",
   "metadata": {},
   "outputs": [],
   "source": []
  },
  {
   "cell_type": "code",
   "execution_count": null,
   "id": "a6391771-9866-4b21-a62e-34d32c05be18",
   "metadata": {},
   "outputs": [],
   "source": [
    "Q2: What is Cumulative Density Function (CDF)? Explain with an example. Why CDF is used?"
   ]
  },
  {
   "cell_type": "code",
   "execution_count": null,
   "id": "2b9da4bf-39b3-4d0f-a37b-1d065021b3d1",
   "metadata": {},
   "outputs": [],
   "source": [
    "CDF is the combined probability on a value X evaluated on x that X will take values less than or equal to x. "
   ]
  },
  {
   "cell_type": "code",
   "execution_count": null,
   "id": "e99a0a2b-72e3-4074-9a21-e5da4fb9d074",
   "metadata": {},
   "outputs": [],
   "source": []
  },
  {
   "cell_type": "code",
   "execution_count": null,
   "id": "c48a548c-4387-4c33-a89c-bc417aa572f4",
   "metadata": {},
   "outputs": [],
   "source": [
    "Q3: What are some examples of situations where the normal distribution might be used as a model?\n",
    "Explain how the parameters of the normal distribution relate to the shape of the distribution."
   ]
  },
  {
   "cell_type": "code",
   "execution_count": null,
   "id": "a8771131-12be-4920-9096-8abb82bd325b",
   "metadata": {},
   "outputs": [],
   "source": [
    "Ans : Height of Males, shoe sizes etc"
   ]
  },
  {
   "cell_type": "code",
   "execution_count": null,
   "id": "72384237-c409-42d3-b5c7-dd20d5a71f8b",
   "metadata": {},
   "outputs": [],
   "source": [
    "Mean = Median = Mode  and at the top of the curve"
   ]
  },
  {
   "cell_type": "code",
   "execution_count": null,
   "id": "520bafaa-345c-4cca-9dc9-620b35eb7530",
   "metadata": {},
   "outputs": [],
   "source": []
  },
  {
   "cell_type": "code",
   "execution_count": null,
   "id": "39b9eda1-f994-407d-a696-65d90dcdb657",
   "metadata": {},
   "outputs": [],
   "source": [
    "Q4: Q4: Explain the importance of Normal Distribution. Give a few real-life examples of Normal\n",
    "Distribution."
   ]
  },
  {
   "cell_type": "code",
   "execution_count": null,
   "id": "a8b4bfd9-ee00-48b9-b62c-d3435ad21890",
   "metadata": {},
   "outputs": [],
   "source": [
    "Ans : Height of Males, shoe sizes etc"
   ]
  },
  {
   "cell_type": "code",
   "execution_count": null,
   "id": "f46711cb-d28c-41fa-9246-6470cf6d8cbc",
   "metadata": {},
   "outputs": [],
   "source": []
  },
  {
   "cell_type": "code",
   "execution_count": null,
   "id": "e5cacf05-57ed-40d9-a985-19fbb9ed7309",
   "metadata": {},
   "outputs": [],
   "source": [
    "Q5: What is Bernaulli Distribution? Give an Example. What is the difference between Bernoulli\n",
    "Distribution and Binomial Distribution?"
   ]
  },
  {
   "cell_type": "code",
   "execution_count": null,
   "id": "5d717f67-2a39-4edd-b634-ec844da1df9a",
   "metadata": {},
   "outputs": [],
   "source": []
  },
  {
   "cell_type": "code",
   "execution_count": null,
   "id": "8de3efe3-e5b4-4f04-b0df-89fe9fcccba1",
   "metadata": {},
   "outputs": [],
   "source": []
  },
  {
   "cell_type": "code",
   "execution_count": null,
   "id": "44cabcd6-2126-4a22-aec2-8db40a150349",
   "metadata": {},
   "outputs": [],
   "source": [
    "Q6. Consider a dataset with a mean of 50 and a standard deviation of 10. If we assume that the dataset\n",
    "is normally distributed, what is the probability that a randomly selected observation will be greater\n",
    "than 60? Use the appropriate formula and show your calculations."
   ]
  },
  {
   "cell_type": "code",
   "execution_count": null,
   "id": "357b9e99-6b04-4934-8e5e-1d0e747e0232",
   "metadata": {},
   "outputs": [],
   "source": [
    "Ans : Mean = 50 \n",
    "      SD = 10\n",
    "      x = 60\n",
    "z-score = (60-50)/10 = 1 \n",
    "\n",
    "Area from Z table = .8413\n",
    "Proabibility = 1 - .8413 = ~0.15"
   ]
  },
  {
   "cell_type": "code",
   "execution_count": null,
   "id": "b89ac42e-edda-4aa3-b020-45a0c431841b",
   "metadata": {},
   "outputs": [],
   "source": []
  },
  {
   "cell_type": "code",
   "execution_count": null,
   "id": "ff0e9826-8c97-4cae-8707-da1de4c24bb7",
   "metadata": {},
   "outputs": [],
   "source": [
    "Q7: Explain uniform Distribution with an example."
   ]
  },
  {
   "cell_type": "code",
   "execution_count": null,
   "id": "d692691a-d846-4b56-8d71-785733ba7727",
   "metadata": {},
   "outputs": [],
   "source": [
    "Ans: A continuous probability distribution is a Uniform distribution and is related to the events which are equally likely to occur."
   ]
  },
  {
   "cell_type": "code",
   "execution_count": null,
   "id": "9730936d-e00d-4bc9-ada0-278a614bfd9d",
   "metadata": {},
   "outputs": [],
   "source": []
  },
  {
   "cell_type": "code",
   "execution_count": null,
   "id": "7f4c2dd4-b463-49ed-9e69-8471d531f60b",
   "metadata": {},
   "outputs": [],
   "source": [
    "Q8: What is the z score? State the importance of the z score."
   ]
  },
  {
   "cell_type": "code",
   "execution_count": null,
   "id": "c0ed8877-f536-4e45-9294-e07683bb14f7",
   "metadata": {},
   "outputs": [],
   "source": [
    "Ans: Z-score is the measurement of how many standard deviation of a data point is away from mean of a distribution. \n",
    "\n",
    "1. To tell the distance between value and mean \n",
    "2. To help you perform standardisation "
   ]
  },
  {
   "cell_type": "code",
   "execution_count": null,
   "id": "2a283acd-f7de-435a-9ac6-473f754b5e5f",
   "metadata": {},
   "outputs": [],
   "source": []
  },
  {
   "cell_type": "code",
   "execution_count": null,
   "id": "88f86880-b061-4c1f-9c4d-5f71366deccf",
   "metadata": {},
   "outputs": [],
   "source": [
    "Q9: What is Central Limit Theorem? State the significance of the Central Limit Theorem."
   ]
  },
  {
   "cell_type": "code",
   "execution_count": null,
   "id": "6c121978-a532-4455-aad1-b22ed1187c5f",
   "metadata": {},
   "outputs": [],
   "source": [
    "Ans : Central limit theorem - The central limit theorem says that the sampling distribution of the mean will always be normally distributed, as long as the sample size\n",
    "is large enough. "
   ]
  },
  {
   "cell_type": "code",
   "execution_count": null,
   "id": "6241085b-f7f5-4fd4-a9c1-d58f5fc8ac32",
   "metadata": {},
   "outputs": [],
   "source": []
  },
  {
   "cell_type": "code",
   "execution_count": null,
   "id": "f9def0bf-4631-4515-a90f-cfe4d542ba81",
   "metadata": {},
   "outputs": [],
   "source": [
    "Q10 : State the assumptions of the Central Limit Theorem."
   ]
  },
  {
   "cell_type": "code",
   "execution_count": null,
   "id": "89f9af8d-b643-42ce-86f5-d58f5f536bf9",
   "metadata": {},
   "outputs": [],
   "source": [
    "Ans : Samp"
   ]
  }
 ],
 "metadata": {
  "kernelspec": {
   "display_name": "Python 3 (ipykernel)",
   "language": "python",
   "name": "python3"
  },
  "language_info": {
   "codemirror_mode": {
    "name": "ipython",
    "version": 3
   },
   "file_extension": ".py",
   "mimetype": "text/x-python",
   "name": "python",
   "nbconvert_exporter": "python",
   "pygments_lexer": "ipython3",
   "version": "3.11.7"
  }
 },
 "nbformat": 4,
 "nbformat_minor": 5
}
