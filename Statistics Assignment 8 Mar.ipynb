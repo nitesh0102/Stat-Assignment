{
 "cells": [
  {
   "cell_type": "code",
   "execution_count": 1,
   "id": "2537d661-bf7d-425d-883b-a9e6c4bc39b5",
   "metadata": {},
   "outputs": [],
   "source": [
    "#Q1"
   ]
  },
  {
   "cell_type": "code",
   "execution_count": null,
   "id": "cf9f2b64-aa97-4654-986c-6f4148ba0884",
   "metadata": {},
   "outputs": [],
   "source": [
    "Probability Density Function (PDF) "
   ]
  },
  {
   "cell_type": "code",
   "execution_count": null,
   "id": "17b038b1-e08f-4326-a3c6-d004853c7d75",
   "metadata": {},
   "outputs": [],
   "source": [
    "For discrete variables, the probability is straight forward and can be calculated easily, but for continous variables which can take\n",
    "on infinite values, the probability also takes on a range of infinite values. \n",
    "The function which describes the probability for such variables is called Probabilty density functions."
   ]
  },
  {
   "cell_type": "code",
   "execution_count": null,
   "id": "02a9444e-188a-45d2-841d-6da991d5f693",
   "metadata": {},
   "outputs": [],
   "source": [
    "A function that defines the relationship between a random variable and its probability, such that you can find the probabilty of the \n",
    "variable using the function, is called a probabilty density function in statistics. "
   ]
  },
  {
   "cell_type": "code",
   "execution_count": null,
   "id": "b67a5d93-0ea1-4879-b90a-782b49b35315",
   "metadata": {},
   "outputs": [],
   "source": [
    "The different types of variables. They are mainly of two types:\n",
    "\n",
    "Discrete Variable: A variable that can only take on a certain finite value within a specific range is called a discrete variable. \n",
    "It usually separates the values by a finite interval, e.g., a sum of two dice. On rolling two dice and adding up the resulting outcome,\n",
    "the result can only belong to a set of numbers not exceeding 12 (as the maximum result of a dice throw is 6). The values are also definite.\n",
    "\n",
    "    \n",
    "Continuous Variable: A continuous random variable can take on infinite different values within a range of values,\n",
    "e.g., amount of rainfall occurring in a month. The rain observed can be 1.7cm, but the exact value is not known. \n",
    "It can, in actuality, be 1.701, 1.7687, etc. As such, you can only define the range of values it falls into. Within this value, \n",
    "it can take on infinite different values."
   ]
  },
  {
   "cell_type": "code",
   "execution_count": null,
   "id": "982776a1-f53d-47a2-a343-d67e35df0707",
   "metadata": {},
   "outputs": [],
   "source": []
  },
  {
   "cell_type": "code",
   "execution_count": null,
   "id": "e61cf9ee-9eca-4b74-8d12-6034cc7ea256",
   "metadata": {},
   "outputs": [],
   "source": [
    "Probability density is the gradient descent of CDF. "
   ]
  },
  {
   "cell_type": "code",
   "execution_count": null,
   "id": "00602aa7-9ee8-47f1-9af6-704ae3e7b13e",
   "metadata": {},
   "outputs": [],
   "source": []
  },
  {
   "cell_type": "code",
   "execution_count": null,
   "id": "5e096738-ee19-415d-88e6-673177d1df04",
   "metadata": {},
   "outputs": [],
   "source": [
    "Link : https://www.simplilearn.com/tutorials/statistics-tutorial/probability-density-function"
   ]
  },
  {
   "cell_type": "code",
   "execution_count": null,
   "id": "0e27cc99-58f0-4342-aba0-f4f7752c1e3e",
   "metadata": {},
   "outputs": [],
   "source": [
    "Now consider a continous random variable x, which has a probability density function f(x) that defines the range of probabilities \n",
    "taken by this function, after plotting the PDF you get a bell curve. \n",
    "\n",
    "\n",
    "Now consider the probability of a point b. To find it, you need to find the area under the curve to the left of b. \n",
    "This is represented by P(b). To find the probability of a variable falling between points a and b,\n",
    "you need to find the area of the curve between a and b. As the probability cannot be more than P(b) and less than P(a), you can represent it as: \n",
    "\n",
    "P(a) <= X <= P(b)."
   ]
  },
  {
   "cell_type": "code",
   "execution_count": null,
   "id": "8f30135f-e356-4d64-9fe4-7f8fad725d9a",
   "metadata": {},
   "outputs": [],
   "source": []
  },
  {
   "cell_type": "markdown",
   "id": "ddc2c355-bc91-4d6c-a4cd-2dbfdd715465",
   "metadata": {},
   "source": [
    "## How to Find the Probability Density Function in Statistics?"
   ]
  },
  {
   "cell_type": "code",
   "execution_count": null,
   "id": "93e374e5-fdda-4397-8990-d8763e23d86a",
   "metadata": {},
   "outputs": [],
   "source": [
    "Step 1: \n",
    "Summarizing the density with a histogram: You first convert the data into discrete form by plotting it as a histogram. \n",
    "A histogram is a graph with categorical values on the x-axis and bins of different heights, \n",
    "giving you a count of the values in that category. The number of bins is crucial as it determines how many bars the histogram will have and their width.\n",
    "This will tell you how it will plot your density.\n"
   ]
  },
  {
   "cell_type": "code",
   "execution_count": null,
   "id": "92e8a2af-28b5-48c4-bc7a-bec63208be68",
   "metadata": {},
   "outputs": [],
   "source": [
    "Step 2: \n",
    "\n",
    "Performing Parametric density estimation: A PDF can take on a shape similar to many standard functions. \n",
    "The shape of the histogram will help you determine which type of function it is. \n",
    "You can calculate the parameters associated with the function to get our density. \n",
    "To check if our histogram is an excellent fit for the function, you can:\n",
    "\n",
    "1.Plot the density function and compare histogram shape\n",
    "2.Compare samples of the function with actual samples\n",
    "3.Use a statistical test"
   ]
  },
  {
   "cell_type": "code",
   "execution_count": null,
   "id": "f77a67b1-18c0-4080-a6a8-58c1627b381e",
   "metadata": {},
   "outputs": [],
   "source": [
    "Step 3: \n",
    "\n",
    "Performing Non-Parametric Density Estimation: In cases where the shape of the histogram doesn't match a common probability density function, or cannot be made to fit one, \n",
    "you calculate the density using all the samples in the data and applying certain algorithms. One such algorithm is the Kernel Density Estimation. \n",
    "It uses a mathematical function to calculate and smooth probabilities so that their sum is always 1. To do this, you need the following parameters:\n",
    "1. Smoothing Parameter (bandwidth): Controls the number of samples used to estimate the probability of a new point.\n",
    "2. Basis Function: Helps to control the distribution of samples."
   ]
  },
  {
   "cell_type": "code",
   "execution_count": null,
   "id": "c6a5f884-3889-447d-bfa0-4871c094c247",
   "metadata": {},
   "outputs": [],
   "source": []
  },
  {
   "cell_type": "code",
   "execution_count": 1,
   "id": "3d5c2c31-2da9-4975-ac78-7af7e2d21a55",
   "metadata": {},
   "outputs": [],
   "source": []
  },
  {
   "cell_type": "code",
   "execution_count": null,
   "id": "704736a9-8c99-4ada-ab07-e55b9e0802c2",
   "metadata": {},
   "outputs": [],
   "source": [
    "Probability Density Function Properties\n",
    "Let x be the continuous random variable with density function f(x), and the probability density function should satisfy the following conditions:\n",
    "\n",
    "For a continuous random variable that takes some value between certain limits, say a and b, the PDF is calculated by finding the area under its curve and the X-axis within the lower limit (a) and upper limit (b). Thus, the PDF is given by\n",
    " \n",
    "The probability density function is non-negative for all the possible values, i.e. f(x)≥ 0, for all x.\n",
    "The area between the density curve and horizontal X-axis is equal to 1, i.e.\n",
    " \n",
    "Due to the property of continuous random variables, the density function curve is continued for all over the given range. Also, this defines itself over a range of continuous values or the domain of the variable."
   ]
  },
  {
   "cell_type": "code",
   "execution_count": null,
   "id": "6552392f-5403-4d32-927d-9b19741a068f",
   "metadata": {},
   "outputs": [],
   "source": []
  },
  {
   "cell_type": "code",
   "execution_count": 2,
   "id": "2852da47-b0c3-445a-bf3e-917cbb252f89",
   "metadata": {},
   "outputs": [],
   "source": [
    "#Q2"
   ]
  },
  {
   "cell_type": "code",
   "execution_count": null,
   "id": "7acc225d-7c94-4771-ae19-8228ce7c1036",
   "metadata": {},
   "outputs": [],
   "source": [
    "There are two types of probability distribution which are used for different purposes and various types of the data generation process.\n",
    "\n",
    "1.Normal or Cumulative Probability Distribution\n",
    "2.Binomial or Discrete Probability Distribution"
   ]
  },
  {
   "cell_type": "code",
   "execution_count": null,
   "id": "d993984e-e51a-4836-b2b2-1489e0045c6e",
   "metadata": {},
   "outputs": [],
   "source": [
    "1. Cumulative probabiility distribution is also known as continous probability distribution function. in this distribution, \n",
    "the possible values can take on values in a continous range. \n",
    "\n",
    "For example, a set of real numbers, is a continuous or normal distribution, as it gives all the possible outcomes of real numbers. \n",
    "Similarly, a set of complex numbers, a set of prime numbers, a set of whole numbers etc. are examples of Normal Probability distribution. \n",
    "Also, in real-life scenarios, the temperature of the day is an example of continuous probability. Based on these outcomes we can create a distribution table. A probability density function describes it. The formula for the normal distribution is;\n"
   ]
  },
  {
   "cell_type": "code",
   "execution_count": null,
   "id": "8282ba6f-21f0-487b-9a39-fa24b0dd4400",
   "metadata": {},
   "outputs": [],
   "source": [
    "2. Discrete probability distribution : A distribution is called a discrete probability distribution, where the set of outcomes are discrete in nature.\n",
    "\n",
    "For example, if a dice is rolled, then all the possible outcomes are discrete and give a mass of outcomes. It is also known as the probability mass function."
   ]
  },
  {
   "cell_type": "code",
   "execution_count": null,
   "id": "7bc1e53e-14a5-4804-846f-99a6b9b686e4",
   "metadata": {},
   "outputs": [],
   "source": []
  },
  {
   "cell_type": "code",
   "execution_count": null,
   "id": "a05e476d-bc91-48e3-ba98-1c8179363152",
   "metadata": {},
   "outputs": [],
   "source": [
    "#Q3 Write a Python function to calculate the probability density function of a normal distribution with\n",
    "given mean and standard deviation at a given point."
   ]
  },
  {
   "cell_type": "code",
   "execution_count": null,
   "id": "fce86b6e-3cb2-465a-a912-169d47a5a04e",
   "metadata": {},
   "outputs": [],
   "source": [
    "#1 creating histogram"
   ]
  },
  {
   "cell_type": "code",
   "execution_count": 5,
   "id": "fe8c2d1a-1ce2-495b-8fcf-1431e6dfb5a7",
   "metadata": {},
   "outputs": [],
   "source": [
    "from matplotlib import pyplot\n",
    "from numpy.random import normal \n",
    "from numpy import mean\n",
    "from numpy import std\n",
    "from scipy.stats import norm\n"
   ]
  },
  {
   "cell_type": "code",
   "execution_count": 15,
   "id": "2bcf39b8-ecf3-49db-b9a2-6922beabe25c",
   "metadata": {},
   "outputs": [
    {
     "data": {
      "text/plain": [
       "<function matplotlib.pyplot.show(close=None, block=None)>"
      ]
     },
     "execution_count": 15,
     "metadata": {},
     "output_type": "execute_result"
    },
    {
     "data": {
      "image/png": "[encoded data removed]",
      "text/plain": [
       "<Figure size 640x480 with 1 Axes>"
      ]
     },
     "metadata": {},
     "output_type": "display_data"
    }
   ],
   "source": [
    "sample = normal(size = 1000)\n",
    "pyplot.hist(sample)\n",
    "pyplot.show"
   ]
  },
  {
   "cell_type": "code",
   "execution_count": 7,
   "id": "38572593-6505-446e-85f5-a98723fa535d",
   "metadata": {},
   "outputs": [
    {
     "data": {
      "text/plain": [
       "<scipy.stats._distn_infrastructure.rv_continuous_frozen at 0x1df61cbc510>"
      ]
     },
     "execution_count": 7,
     "metadata": {},
     "output_type": "execute_result"
    }
   ],
   "source": []
  },
  {
   "cell_type": "code",
   "execution_count": 16,
   "id": "637074a8-3407-4706-acd5-bd78bd3db5e7",
   "metadata": {},
   "outputs": [],
   "source": [
    "#2 Performing parametric density estimation "
   ]
  },
  {
   "cell_type": "code",
   "execution_count": 17,
   "id": "42c7f907-039b-4f52-88d7-25b8fcd6f6de",
   "metadata": {},
   "outputs": [
    {
     "data": {
      "text/plain": [
       "array([41.41161736, 49.30852508, 55.44469597, 53.37192131, 39.35164506,\n",
       "       47.95731654, 45.74480586, 49.00418545, 48.92257772, 51.79693968,\n",
       "       48.62464106, 57.13317222, 51.90173792, 56.35124819, 42.92924334,\n",
       "       51.30593407, 50.72714201, 56.34029843, 48.20745705, 45.43779971,\n",
       "       46.44456513, 57.50123499, 48.21629356, 55.77148173, 53.31657441,\n",
       "       52.02152767, 60.58198852, 47.73444478, 52.15787723, 47.02355019,\n",
       "       52.74696781, 50.77999535, 48.36377372, 58.59290381, 45.58992255,\n",
       "       41.82932219, 48.08952727, 60.97087551, 44.3334559 , 45.83814199,\n",
       "       47.86594194, 55.36655442, 55.26192171, 41.98770268, 52.76955652,\n",
       "       51.54135982, 55.49850208, 44.09472857, 54.87658255, 55.85984552,\n",
       "       45.57470906, 52.06837822, 42.22496295, 49.91177656, 48.71749463,\n",
       "       43.48744439, 49.04837203, 57.22782807, 59.14890755, 61.50092424,\n",
       "       53.26332056, 42.96857232, 51.1836118 , 38.63947008, 50.56830188,\n",
       "       36.25106202, 49.81158292, 44.89645407, 53.35683227, 49.25132354,\n",
       "       54.32290742, 50.35634403, 50.37318068, 53.60360949, 52.42021487,\n",
       "       44.80323698, 47.315031  , 44.722433  , 46.94990596, 54.46556137,\n",
       "       50.54245032, 48.76698476, 53.55860938, 49.24429471, 43.2682703 ,\n",
       "       51.83496311, 51.54857782, 54.06878848, 42.90238675, 61.08157051,\n",
       "       51.51020461, 46.86378509, 42.13564722, 37.44427444, 51.38931942,\n",
       "       50.01900143, 46.83696223, 47.42665915, 47.45630526, 48.88585648,\n",
       "       48.5301451 , 53.71448605, 61.93871736, 53.62021014, 49.75912969,\n",
       "       57.93661867, 44.22883991, 48.14260092, 42.13839443, 53.21108829,\n",
       "       48.2531727 , 53.32826618, 46.04812759, 43.10052352, 49.51790825,\n",
       "       45.47720538, 50.050997  , 55.6268684 , 51.63389348, 51.79937385,\n",
       "       46.57010959, 47.64760661, 56.72695973, 65.15517968, 49.4042592 ,\n",
       "       56.52416906, 49.10204948, 54.03596431, 55.51686079, 45.35531094,\n",
       "       49.85767418, 41.07419768, 42.06012469, 55.32026761, 43.57029717,\n",
       "       53.13340558, 48.9860774 , 41.21095437, 52.30158078, 56.17082749,\n",
       "       52.32934113, 58.73848379, 51.87375148, 65.22760884, 43.48094411,\n",
       "       43.58476276, 57.15569992, 52.67245226, 48.64324747, 46.99822825,\n",
       "       46.28611937, 62.24659809, 49.73699681, 58.15294927, 52.88094095,\n",
       "       41.16134881, 47.7549893 , 47.85908849, 46.91656183, 48.3974176 ,\n",
       "       46.51906537, 47.42156357, 45.98442992, 41.00160264, 51.09452403,\n",
       "       50.22496695, 52.48051062, 45.99087789, 55.95777692, 45.44756456,\n",
       "       43.3151869 , 41.38253167, 51.76619598, 55.01338107, 48.58940108,\n",
       "       47.72570658, 52.43886713, 44.93050441, 49.00312034, 50.46296542,\n",
       "       41.62922296, 39.40647886, 52.86408729, 56.82683621, 54.73540626,\n",
       "       41.54458193, 45.37214898, 49.88344701, 55.72309442, 47.88879058,\n",
       "       56.67003194, 47.35542921, 54.31545689, 49.7577439 , 58.46281281,\n",
       "       49.61246768, 55.82677706, 45.80703827, 56.35391961, 46.91604462,\n",
       "       43.40832284, 52.10468589, 51.49508585, 37.88158101, 48.22607139,\n",
       "       57.01146314, 55.91860918, 51.48517294, 50.86472556, 60.56811382,\n",
       "       45.56049075, 44.54171465, 46.38169973, 58.58376955, 44.3868609 ,\n",
       "       44.01572087, 53.55074309, 46.01627758, 44.65851063, 50.59391496,\n",
       "       57.69392752, 48.31394432, 53.84163376, 42.91711351, 53.80850668,\n",
       "       55.80228192, 50.78658582, 42.47928344, 44.30296878, 52.4850724 ,\n",
       "       56.62006347, 46.00311312, 51.99915277, 52.66186456, 55.52234756,\n",
       "       50.99440463, 40.44290664, 56.82507311, 50.2011726 , 60.88030436,\n",
       "       53.69252258, 43.78186862, 44.14365329, 52.49899467, 47.38654764,\n",
       "       50.08926028, 47.32083048, 56.23507633, 46.16293687, 41.9662525 ,\n",
       "       42.33302716, 56.3079612 , 48.54418928, 47.91753636, 51.71979737,\n",
       "       59.964542  , 48.41078789, 50.15632297, 56.71512793, 47.75610019,\n",
       "       50.85073286, 52.01688658, 57.42554409, 61.36692712, 45.12590956,\n",
       "       51.01666577, 50.03926701, 48.64638652, 40.74622225, 53.80198788,\n",
       "       46.877538  , 61.71517505, 50.2260666 , 49.47221748, 50.22893944,\n",
       "       52.06785345, 49.61532445, 58.82544655, 48.04483251, 45.14629676,\n",
       "       55.25636535, 52.24070845, 50.93399497, 55.29984679, 48.57267285,\n",
       "       53.39644027, 45.02250809, 50.13116595, 48.88306122, 39.14484482,\n",
       "       42.34616847, 50.30180591, 54.10445013, 48.30920419, 42.95992386,\n",
       "       53.64263157, 51.77773098, 42.77917541, 51.51801082, 50.52988389,\n",
       "       42.86672521, 53.08633195, 56.57625721, 56.05275861, 46.19343796,\n",
       "       46.67319205, 52.41202132, 47.38087495, 53.45094821, 49.68244249,\n",
       "       44.03983321, 46.30726229, 50.94537687, 49.9464723 , 43.2912366 ,\n",
       "       47.51769276, 42.02899149, 39.66424474, 51.26616262, 53.48996567,\n",
       "       51.46665017, 61.11057726, 44.94232371, 53.39578969, 51.00816797,\n",
       "       46.19676689, 50.65406455, 53.29131677, 43.57372812, 49.80892315,\n",
       "       47.04388788, 48.67543783, 46.79595516, 47.74710961, 46.26181673,\n",
       "       53.81923744, 50.15713208, 54.4079008 , 58.65961463, 50.69805728,\n",
       "       49.83456706, 53.69834194, 42.04315409, 45.11682909, 50.29631982,\n",
       "       47.72340515, 49.17990371, 47.40814603, 41.1937405 , 41.55728756,\n",
       "       51.27086598, 51.93408195, 52.92969947, 46.3424874 , 57.47462275,\n",
       "       53.1065777 , 54.63902015, 47.04188889, 42.82893092, 53.84315031,\n",
       "       39.57660698, 54.93296347, 54.78925748, 54.61329449, 52.94963853,\n",
       "       52.21502493, 47.5148124 , 46.02208164, 48.6215514 , 49.47766344,\n",
       "       59.76338579, 49.03548679, 51.83865251, 51.46608675, 48.1588503 ,\n",
       "       54.50470953, 53.68347119, 42.37888633, 47.88041187, 53.10406017,\n",
       "       54.56003432, 49.40936971, 57.0342042 , 42.49708213, 50.35631196,\n",
       "       47.31706935, 53.59313225, 52.99289793, 44.64088623, 48.24529931,\n",
       "       47.36000867, 47.53488731, 44.66585437, 45.03115222, 49.39453274,\n",
       "       47.34203942, 53.61649095, 54.85134958, 48.56458335, 48.54458083,\n",
       "       48.29619498, 56.23716938, 53.52154488, 46.13075628, 47.1456916 ,\n",
       "       53.219681  , 56.12461443, 46.55576643, 44.53194966, 49.85370216,\n",
       "       50.84705321, 51.36004959, 55.85498073, 46.35813933, 53.37769438,\n",
       "       60.84939519, 47.16893515, 45.98547118, 59.586518  , 51.31009771,\n",
       "       45.18398978, 50.58974636, 46.84491384, 46.04789246, 43.15981058,\n",
       "       50.30572186, 50.19871415, 41.96531617, 50.80499746, 35.71871959,\n",
       "       42.11403049, 45.80491542, 42.10807303, 48.45386819, 52.22638428,\n",
       "       50.68913795, 53.04546389, 54.225872  , 46.65602176, 47.94378392,\n",
       "       52.35494041, 45.71133834, 51.48712191, 56.55645113, 53.8431306 ,\n",
       "       52.80470783, 53.11584596, 52.81417118, 46.0365064 , 47.80105795,\n",
       "       55.73620341, 41.62030095, 45.81844994, 54.4264668 , 56.70004506,\n",
       "       53.94147377, 47.74060434, 50.58394731, 44.42913835, 51.77476963,\n",
       "       48.98809476, 48.6936297 , 54.99999983, 46.74786909, 55.21085828,\n",
       "       42.20106103, 63.29513636, 47.89360979, 43.70284545, 44.52883987,\n",
       "       50.63188495, 47.90730781, 48.41010098, 49.1900169 , 45.67213232,\n",
       "       51.74868456, 51.16531795, 49.19601406, 52.45547219, 51.61792463,\n",
       "       51.07203029, 50.94339159, 50.45479649, 44.47380991, 41.15409096,\n",
       "       51.20717015, 49.3772003 , 47.91232494, 55.151488  , 55.84660119,\n",
       "       44.13208391, 47.62784312, 47.30670261, 45.58218081, 45.66196309,\n",
       "       47.33000576, 41.75059381, 53.85912208, 51.58834528, 49.41429298,\n",
       "       53.20516749, 47.70340758, 49.0459024 , 53.21790837, 46.17448745,\n",
       "       51.3163027 , 43.57877292, 48.49482283, 60.19426778, 49.96819609,\n",
       "       44.2649677 , 58.01513686, 53.19381286, 50.16775322, 45.69137531,\n",
       "       46.84135953, 44.03086024, 48.89317732, 49.02831463, 49.63762785,\n",
       "       55.55117906, 49.777726  , 46.36054809, 43.93748132, 50.78944291,\n",
       "       44.43230697, 50.89349712, 47.33387013, 53.18040129, 52.84883183,\n",
       "       48.33767154, 49.43128205, 47.45300242, 52.20681912, 51.7769936 ,\n",
       "       43.07749921, 61.12528129, 59.84648063, 35.67767076, 54.75302806,\n",
       "       54.65300058, 47.24594296, 44.65264995, 44.66240181, 42.57538165,\n",
       "       55.09141247, 51.62348808, 42.72816092, 49.19002492, 53.77838995,\n",
       "       44.38785905, 53.56745525, 66.44877109, 48.43246905, 48.45076576,\n",
       "       56.90710862, 66.05095714, 56.87070537, 53.66829856, 45.70357902,\n",
       "       50.82309144, 58.11824088, 47.08582144, 43.13200489, 61.09763887,\n",
       "       40.44293571, 55.37131144, 58.95803909, 51.55548337, 50.31476166,\n",
       "       45.54842944, 41.26712911, 40.01378252, 49.82760019, 51.42234943,\n",
       "       46.34428507, 43.7633742 , 52.39648807, 45.29134263, 56.36445597,\n",
       "       48.84634002, 44.22491525, 54.95340807, 51.33245515, 50.26796077,\n",
       "       42.58576766, 48.16178529, 45.0218611 , 51.84382966, 46.33368591,\n",
       "       56.22468763, 46.24052224, 46.57355365, 45.83018151, 47.84970616,\n",
       "       61.79811927, 42.83558001, 50.3774968 , 48.23268695, 47.07443185,\n",
       "       53.2704501 , 42.5504733 , 51.02107977, 51.31440846, 47.77900082,\n",
       "       48.99328904, 52.85318429, 48.5084719 , 60.31487487, 57.45766496,\n",
       "       51.33798964, 51.67983654, 42.55153371, 48.64671487, 41.34956548,\n",
       "       50.9106118 , 43.21998398, 45.66697281, 58.35844498, 62.65361987,\n",
       "       49.51807012, 55.59774681, 40.51460077, 54.97209406, 41.69977929,\n",
       "       53.53827392, 47.37549332, 52.04495326, 45.48321568, 49.31014721,\n",
       "       50.88044689, 47.49406114, 46.89629875, 53.35135415, 47.68653575,\n",
       "       53.77827597, 51.0475564 , 49.16607141, 48.6412647 , 50.73779442,\n",
       "       56.96449432, 50.44473486, 51.90177168, 49.76074666, 55.33707454,\n",
       "       44.41667039, 42.74571868, 47.39699634, 42.96284224, 52.72689486,\n",
       "       45.94304921, 57.64594026, 57.40957777, 52.00411147, 45.97617937,\n",
       "       48.81267784, 50.11596477, 53.2839121 , 53.89328288, 53.19396924,\n",
       "       46.25619083, 44.99090472, 52.1645121 , 42.75841181, 55.90432361,\n",
       "       39.27200053, 62.89356077, 48.92507221, 43.78867463, 44.85047798,\n",
       "       55.95513962, 48.30934354, 43.33427103, 56.21154441, 45.86360036,\n",
       "       54.93533087, 45.0172122 , 55.03071922, 53.81359348, 53.8555521 ,\n",
       "       51.45810233, 52.1741408 , 47.73890094, 47.04069549, 46.04007496,\n",
       "       40.13012846, 48.54958841, 52.26834254, 48.61048309, 60.85688139,\n",
       "       50.5459839 , 50.52105005, 44.15287793, 49.33716201, 42.26463195,\n",
       "       46.8171353 , 53.43020264, 54.05552481, 58.70134369, 52.59684133,\n",
       "       54.72560914, 51.65195052, 52.53562187, 54.99178523, 43.46270879,\n",
       "       51.68215268, 46.03244473, 57.58717222, 47.26339352, 46.26958234,\n",
       "       52.14481471, 49.94378115, 45.75369765, 51.99556614, 47.99500669,\n",
       "       51.69204952, 51.81981009, 47.59816385, 54.15887175, 49.16507826,\n",
       "       42.04711066, 45.10618988, 41.08895465, 54.91457895, 50.55409498,\n",
       "       52.58076694, 47.83301254, 47.35831912, 54.16726571, 56.76642531,\n",
       "       50.15865781, 60.08154469, 49.33185744, 49.28191422, 42.39187334,\n",
       "       44.11220484, 53.03806709, 42.41727739, 44.05046233, 40.35167818,\n",
       "       37.90950511, 42.33675312, 43.23758407, 50.28972161, 49.40084712,\n",
       "       58.03141127, 49.02589763, 44.52983348, 54.72751287, 47.19335349,\n",
       "       52.41801842, 54.863578  , 60.10526963, 41.34775716, 45.01661758,\n",
       "       49.81107591, 50.85861501, 46.16618208, 57.76672281, 51.30119052,\n",
       "       60.97180845, 46.70417672, 50.34995615, 51.68294502, 52.52627303,\n",
       "       45.87929015, 48.18207142, 49.95024221, 45.74991195, 50.9258709 ,\n",
       "       53.25435689, 53.5021446 , 55.65845177, 55.27807719, 56.97673792,\n",
       "       46.27583006, 49.48159908, 51.83905574, 42.74692324, 50.29505874,\n",
       "       54.44730241, 49.54935227, 52.05362514, 42.91066576, 55.87245369,\n",
       "       47.2357794 , 44.11026973, 51.31783821, 50.08518556, 48.89639136,\n",
       "       50.88015062, 47.07479067, 45.00982252, 44.08771777, 48.76638534,\n",
       "       47.91700516, 50.9019624 , 48.41637829, 55.65689519, 57.59353182,\n",
       "       37.80715767, 50.15757876, 43.05469153, 51.00393003, 55.89101332,\n",
       "       46.48640076, 58.05185406, 51.12621367, 45.45875827, 59.33894193,\n",
       "       49.97353481, 41.84317306, 47.96373874, 49.91307593, 53.26835062,\n",
       "       51.1112011 , 48.11396453, 49.06679119, 46.79907913, 44.95466378,\n",
       "       36.52861491, 47.26016609, 44.83477769, 48.12473551, 49.2744593 ,\n",
       "       42.30637535, 50.12293808, 51.28137661, 56.57343741, 47.14025418,\n",
       "       55.48551944, 40.95106764, 53.05452151, 46.54754652, 57.52005801,\n",
       "       51.40568485, 50.28177967, 56.5663508 , 49.89268166, 52.03337127,\n",
       "       49.77244286, 44.39029695, 50.07076516, 51.27327477, 55.80864557,\n",
       "       42.15133686, 49.41341074, 55.94095233, 46.5398799 , 50.7777125 ,\n",
       "       60.9222354 , 51.45092253, 54.36769624, 44.24033745, 43.29021078,\n",
       "       44.85040479, 59.71373431, 55.18438359, 54.00895096, 57.29796052,\n",
       "       48.91510196, 47.75732585, 44.09849921, 49.74075141, 46.81782933,\n",
       "       61.18276374, 55.62177505, 50.36802316, 39.90197902, 50.66796395,\n",
       "       52.51505379, 51.25720103, 60.34040412, 48.50703593, 46.07251392,\n",
       "       48.85914891, 53.53883957, 39.32825222, 53.50099542, 61.80025556,\n",
       "       53.84541028, 53.35861038, 48.7818271 , 51.10143995, 50.97749554,\n",
       "       42.96899897, 43.70444353, 50.32968477, 60.67783345, 56.09554887,\n",
       "       52.24154036, 51.14215248, 53.21198559, 56.93317572, 41.9396016 ,\n",
       "       46.23293092, 43.21225591, 50.30164256, 46.43750572, 42.79037441,\n",
       "       42.07591641, 41.49377748, 52.05488539, 54.71139428, 49.14109287,\n",
       "       42.24157163, 48.62817013, 51.15725389, 59.03760886, 44.08420829,\n",
       "       51.27797878, 50.34270442, 46.28438608, 52.95868123, 45.070779  ,\n",
       "       53.87754822, 45.82778404, 48.98523845, 51.10957763, 52.67748304,\n",
       "       50.20514377, 44.81484071, 51.48879428, 41.66052017, 49.04488811,\n",
       "       52.65795682, 51.05158816, 48.47445248, 46.14303824, 47.55815762,\n",
       "       50.24838053, 47.27407587, 50.66598703, 37.87746892, 49.33334572,\n",
       "       44.23958516, 47.61735274, 47.47924409, 56.58713787, 55.31130685,\n",
       "       61.50701135, 50.5187503 , 51.1602501 , 45.6499011 , 57.77431063,\n",
       "       51.8302908 , 48.47398196, 51.21087641, 48.84219057, 52.28111092,\n",
       "       46.70002079, 46.90666439, 47.69132612, 47.18271238, 59.5037011 ,\n",
       "       46.61669249, 53.02361607, 50.52106496, 53.26967149, 49.33200588,\n",
       "       50.88252383, 44.07342039, 50.05878522, 55.69272917, 46.3924222 ,\n",
       "       58.48133917, 45.28361301, 56.21540765, 50.24026909, 46.48965162,\n",
       "       58.67744435, 52.87145887, 57.14925194, 43.47333644, 54.52402199,\n",
       "       45.4282644 , 43.93471383, 51.45320944, 53.31895619, 48.80387415,\n",
       "       53.33521671, 53.25266342, 53.92406107, 54.58117273, 48.09256142,\n",
       "       50.45033656, 43.76544138, 55.86515053, 49.58228691, 50.36302812,\n",
       "       45.1998141 , 49.23426654, 44.87287403, 39.87835851, 45.07627385,\n",
       "       50.64103318, 54.7071223 , 47.8365395 , 52.97269955, 49.82263133])"
      ]
     },
     "execution_count": 17,
     "metadata": {},
     "output_type": "execute_result"
    }
   ],
   "source": [
    "sample = normal (loc = 50, scale = 5, size = 1000)\n",
    "sample"
   ]
  },
  {
   "cell_type": "code",
   "execution_count": 27,
   "id": "8151f126-8dbe-49c6-a916-aab49eca2a96",
   "metadata": {},
   "outputs": [
    {
     "name": "stdout",
     "output_type": "stream",
     "text": [
      "mean = 49.859026, sd  = 5.089851\n"
     ]
    }
   ],
   "source": [
    "# calculate parameters\n",
    "sample_mean = mean(sample)\n",
    "sample_std = std(sample)\n",
    "print('mean = %f, sd  = %f'% (sample_mean,sample_std))"
   ]
  },
  {
   "cell_type": "code",
   "execution_count": 28,
   "id": "baa2ac7e-7e68-481c-8cc8-c62b3115e60d",
   "metadata": {},
   "outputs": [],
   "source": [
    "#defining a normal distribution with the above mean and standard deviation \n",
    "dist = norm(sample_mean, sample_std)"
   ]
  },
  {
   "cell_type": "code",
   "execution_count": 31,
   "id": "b54e8016-5bea-4d67-9ddb-b020b4e6d5b1",
   "metadata": {},
   "outputs": [
    {
     "data": {
      "text/plain": [
       "[3.877310032633187e-05,\n",
       " 8.185828711109602e-05,\n",
       " 0.00016627651380678076,\n",
       " 0.0003249640373936867,\n",
       " 0.0006110487035700662,\n",
       " 0.0011054840628753732,\n",
       " 0.0019242667638343237,\n",
       " 0.0032226578975227084,\n",
       " 0.005192772133938011,\n",
       " 0.008050455609789885,\n",
       " 0.012008196541430158,\n",
       " 0.017233411139376827,\n",
       " 0.023795829284757326,\n",
       " 0.031613062777557675,\n",
       " 0.040408100600248076,\n",
       " 0.04969428352519249,\n",
       " 0.058800438391112694,\n",
       " 0.06694078922022628,\n",
       " 0.07332249361254724,\n",
       " 0.07727157390398147,\n",
       " 0.07834989592006507,\n",
       " 0.07643516779520346,\n",
       " 0.0717437637557718,\n",
       " 0.06479048388524691,\n",
       " 0.05629559637083726,\n",
       " 0.04706236619061975,\n",
       " 0.03785377767292652,\n",
       " 0.02929414515076285,\n",
       " 0.021811652250776224,\n",
       " 0.0156254464421709,\n",
       " 0.010769919025849351,\n",
       " 0.007142143556699061,\n",
       " 0.004557019072203972,\n",
       " 0.002797494561850824,\n",
       " 0.0016523185915763364,\n",
       " 0.0009389759348064192,\n",
       " 0.0005133945663361103,\n",
       " 0.00027007488991180357,\n",
       " 0.00013669520523236584,\n",
       " 6.656692396118286e-05]"
      ]
     },
     "execution_count": 31,
     "metadata": {},
     "output_type": "execute_result"
    }
   ],
   "source": [
    "#finding the probability distribution for the distribution defined above\n",
    "values = [value for value in range(30,70)]\n",
    "probabilities = [dist.pdf(value) for value in values]\n",
    "probabilities"
   ]
  },
  {
   "cell_type": "code",
   "execution_count": 36,
   "id": "8a60cf89-fbe4-47e7-a451-e7adfd9db636",
   "metadata": {},
   "outputs": [
    {
     "data": {
      "image/png": "[encoded data removed]",
      "text/plain": [
       "<Figure size 640x480 with 1 Axes>"
      ]
     },
     "metadata": {},
     "output_type": "display_data"
    }
   ],
   "source": [
    "pyplot.hist(sample,bins = 10,density = True)\n",
    "pyplot.plot(values, probabilities)\n",
    "pyplot.show()"
   ]
  },
  {
   "cell_type": "code",
   "execution_count": null,
   "id": "9f8509c7-3d89-421b-97bc-d24b1d0c12a0",
   "metadata": {},
   "outputs": [],
   "source": []
  },
  {
   "cell_type": "code",
   "execution_count": null,
   "id": "a3bfb3c0-297f-467a-9db6-9acc7f8f4b09",
   "metadata": {},
   "outputs": [],
   "source": [
    "# Q4 What are the properties of Binomial distribution? Give two examples of events where binomial\n",
    "distribution can be applied."
   ]
  },
  {
   "cell_type": "code",
   "execution_count": null,
   "id": "a1cec1d2-7020-462c-afa4-765270fcda8e",
   "metadata": {},
   "outputs": [],
   "source": [
    "The binomial distribution is the discrete probability distribution that gives only two possible results in an experiment, either Success or Failure"
   ]
  },
  {
   "cell_type": "code",
   "execution_count": null,
   "id": "9b287614-74ef-40ee-8638-a08b85c3f3c7",
   "metadata": {},
   "outputs": [],
   "source": [
    "For example, if we toss a coin, there could be only two possible outcomes: heads or tails, and if any test is taken, then there could be only two results: pass or fail. \n",
    "This distribution is also called a binomial probability distribution."
   ]
  },
  {
   "cell_type": "code",
   "execution_count": null,
   "id": "ac49828e-59e1-4a76-8fa9-eef5272b04c2",
   "metadata": {},
   "outputs": [],
   "source": []
  },
  {
   "cell_type": "code",
   "execution_count": 37,
   "id": "ae757c9a-805a-476e-a6d6-39ea2efae271",
   "metadata": {},
   "outputs": [],
   "source": [
    "#Q5 Generate a random sample of size 1000 from a binomial distribution with probability of success 0.4\n",
    "and plot a histogram of the results using matplotlib."
   ]
  },
  {
   "cell_type": "code",
   "execution_count": 41,
   "id": "c83250f0-9a1c-4ed4-891f-bf1af051dfeb",
   "metadata": {},
   "outputs": [],
   "source": [
    "from matplotlib import pyplot\n",
    "from numpy.random import normal,binomial\n",
    "from numpy import mean\n",
    "from numpy import std\n",
    "from scipy.stats import norm"
   ]
  },
  {
   "cell_type": "code",
   "execution_count": 39,
   "id": "a75d253b-4749-4888-956e-1e0a1659a6a7",
   "metadata": {},
   "outputs": [
    {
     "data": {
      "text/plain": [
       "<function matplotlib.pyplot.show(close=None, block=None)>"
      ]
     },
     "execution_count": 39,
     "metadata": {},
     "output_type": "execute_result"
    },
    {
     "data": {
      "image/png": "[encoded data removed]",
      "text/plain": [
       "<Figure size 640x480 with 1 Axes>"
      ]
     },
     "metadata": {},
     "output_type": "display_data"
    }
   ],
   "source": [
    "sample = normal(size = 1000)\n",
    "pyplot.hist(sample)\n",
    "pyplot.show"
   ]
  },
  {
   "cell_type": "code",
   "execution_count": 49,
   "id": "49c28852-f95b-4503-b6bf-c5dff1fa9b5c",
   "metadata": {
    "scrolled": true
   },
   "outputs": [
    {
     "data": {
      "text/plain": [
       "<function matplotlib.pyplot.show(close=None, block=None)>"
      ]
     },
     "execution_count": 49,
     "metadata": {},
     "output_type": "execute_result"
    },
    {
     "data": {
      "image/png": "[encoded data removed]",
      "text/plain": [
       "<Figure size 640x480 with 1 Axes>"
      ]
     },
     "metadata": {},
     "output_type": "display_data"
    }
   ],
   "source": [
    "sample1 = binomial(n=20,p=0.4,size = 1000)\n",
    "pyplot.hist(sample)\n",
    "pyplot.show"
   ]
  },
  {
   "cell_type": "code",
   "execution_count": null,
   "id": "61f58cde-dc63-4598-a9cc-7f2e9a7a8959",
   "metadata": {},
   "outputs": [],
   "source": []
  },
  {
   "cell_type": "code",
   "execution_count": 65,
   "id": "120b7819-d159-45ac-bd87-4b3b890b4436",
   "metadata": {},
   "outputs": [],
   "source": [
    "##Q6 Write a Python function to calculate the cumulative distribution function of a Poisson distribution with given mean at a given point."
   ]
  },
  {
   "cell_type": "code",
   "execution_count": null,
   "id": "38cd71c7-fb49-4488-b6f2-763c66fe3309",
   "metadata": {},
   "outputs": [],
   "source": []
  },
  {
   "cell_type": "code",
   "execution_count": 66,
   "id": "2aaa88d3-7161-4e08-bf9d-cb484ddfd6e5",
   "metadata": {},
   "outputs": [],
   "source": [
    "#Q7 How Binomial distribution different from Poisson distribution?"
   ]
  },
  {
   "cell_type": "code",
   "execution_count": null,
   "id": "5c29efb7-1d6b-49a2-8211-8f73a8fa7351",
   "metadata": {},
   "outputs": [],
   "source": [
    "When the number of outcomes are binary i.e either success or failure and the trial is done multiple times it represents binomial\n",
    "poisson distribution is a discrete probabilty distribution. \n",
    "A poisson distribtion measure how many times the event is likely to occur within \"X\" period of time."
   ]
  },
  {
   "cell_type": "code",
   "execution_count": null,
   "id": "2a11e582-8854-4d5a-8929-2c93daa93a55",
   "metadata": {},
   "outputs": [],
   "source": [
    "Binomial distribution only has two possible outcomes, whereas poisson distribution can have unlimited possible outcomes.\n",
    "\n",
    "But for very large n and near-zero p binomial distribution is near identical to poisson distribution such that n * p is nearly equal to lam.\n",
    "\n"
   ]
  },
  {
   "cell_type": "code",
   "execution_count": null,
   "id": "e086b3f5-4d58-45b3-83b9-e3c998c3b446",
   "metadata": {},
   "outputs": [],
   "source": []
  },
  {
   "cell_type": "code",
   "execution_count": null,
   "id": "eda3e156-291e-4aef-800a-f50bce304406",
   "metadata": {},
   "outputs": [],
   "source": [
    "#Q8 Generate a random sample of size 1000 from a Poisson distribution with mean 5 and calculate the\n",
    "sample mean and variance."
   ]
  },
  {
   "cell_type": "code",
   "execution_count": 67,
   "id": "837322f6-be12-4cee-9777-3f0bd25c1390",
   "metadata": {},
   "outputs": [],
   "source": [
    "from numpy.random import poisson "
   ]
  },
  {
   "cell_type": "code",
   "execution_count": 68,
   "id": "75ed15f1-28d0-438a-8e7d-d4b18ac50136",
   "metadata": {},
   "outputs": [],
   "source": [
    "sample = poisson(5,1000)"
   ]
  },
  {
   "cell_type": "code",
   "execution_count": 70,
   "id": "3d857369-571e-48c9-b252-5e01f8f47bb8",
   "metadata": {},
   "outputs": [
    {
     "data": {
      "text/plain": [
       "<function matplotlib.pyplot.show(close=None, block=None)>"
      ]
     },
     "execution_count": 70,
     "metadata": {},
     "output_type": "execute_result"
    },
    {
     "data": {
      "image/png": "[encoded data removed]",
      "text/plain": [
       "<Figure size 640x480 with 1 Axes>"
      ]
     },
     "metadata": {},
     "output_type": "display_data"
    }
   ],
   "source": [
    "pyplot.hist(sample)\n",
    "pyplot.show"
   ]
  },
  {
   "cell_type": "code",
   "execution_count": null,
   "id": "ef3caae2-17e8-4735-b222-4d4aa2862421",
   "metadata": {},
   "outputs": [],
   "source": []
  },
  {
   "cell_type": "code",
   "execution_count": 71,
   "id": "4b24664b-72a6-4d77-b0a9-64191b840a48",
   "metadata": {},
   "outputs": [],
   "source": [
    "# Q9How mean and variance are related in Binomial distribution and Poisson distribution?"
   ]
  },
  {
   "cell_type": "code",
   "execution_count": null,
   "id": "09b67f4d-9873-40ee-bb1b-74a874d0032a",
   "metadata": {},
   "outputs": [],
   "source": [
    "Binomial distribution only has two possible outcomes, whereas poisson distribution can have unlimited possible outcomes.\n",
    "\n",
    "But for very large n and near-zero p binomial distribution is near identical to poisson distribution such that n * p is nearly equal to lam.\n"
   ]
  },
  {
   "cell_type": "code",
   "execution_count": null,
   "id": "52c2e787-6f8b-4e3f-83ce-7c5b533198cd",
   "metadata": {},
   "outputs": [],
   "source": []
  },
  {
   "cell_type": "code",
   "execution_count": 72,
   "id": "210c3131-9458-4884-9c2a-58a5ed437eb3",
   "metadata": {},
   "outputs": [],
   "source": [
    "#Q10 In normal distribution with respect to mean position, where does the least frequent data appear?"
   ]
  },
  {
   "cell_type": "code",
   "execution_count": null,
   "id": "e98dfb65-e6bf-4431-89ef-e13627c65ca8",
   "metadata": {},
   "outputs": [],
   "source": [
    "Outside of mean "
   ]
  }
 ],
 "metadata": {
  "kernelspec": {
   "display_name": "Python 3 (ipykernel)",
   "language": "python",
   "name": "python3"
  },
  "language_info": {
   "codemirror_mode": {
    "name": "ipython",
    "version": 3
   },
   "file_extension": ".py",
   "mimetype": "text/x-python",
   "name": "python",
   "nbconvert_exporter": "python",
   "pygments_lexer": "ipython3",
   "version": "3.11.7"
  }
 },
 "nbformat": 4,
 "nbformat_minor": 5
}
