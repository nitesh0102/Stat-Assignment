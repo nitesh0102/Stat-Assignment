{
 "cells": [
  {
   "cell_type": "code",
   "execution_count": null,
   "id": "72b6fed5-24db-46aa-9626-044a2405f0db",
   "metadata": {},
   "outputs": [],
   "source": [
    "#Q1: \n",
    "\n",
    "C.I. = 95%\n",
    "alpha = 0.05\n",
    "mean = 50\n",
    "SD = 5 "
   ]
  },
  {
   "cell_type": "code",
   "execution_count": 13,
   "id": "1f73ada7-399d-4624-84ea-a80495f25b0c",
   "metadata": {},
   "outputs": [],
   "source": [
    "import scipy.stats as stat\n",
    "import numpy as np"
   ]
  },
  {
   "cell_type": "code",
   "execution_count": 5,
   "id": "ef9246c1-9814-42cc-8cb7-a8594c5e76f5",
   "metadata": {},
   "outputs": [],
   "source": [
    "x  = stat.norm.interval(0.95,50,5)"
   ]
  },
  {
   "cell_type": "code",
   "execution_count": 6,
   "id": "4af88003-0cf9-4bfe-932b-090e1670f263",
   "metadata": {},
   "outputs": [
    {
     "data": {
      "text/plain": [
       "(40.200180077299734, 59.799819922700266)"
      ]
     },
     "execution_count": 6,
     "metadata": {},
     "output_type": "execute_result"
    }
   ],
   "source": [
    "x"
   ]
  },
  {
   "cell_type": "code",
   "execution_count": null,
   "id": "7614ef9d-0f2e-4437-823c-a5cba1e74397",
   "metadata": {},
   "outputs": [],
   "source": []
  },
  {
   "cell_type": "code",
   "execution_count": null,
   "id": "b7c211b8-db8d-456b-847b-cc5c507b7d7d",
   "metadata": {},
   "outputs": [],
   "source": [
    "#Q2 Question on proportion"
   ]
  },
  {
   "cell_type": "code",
   "execution_count": 57,
   "id": "16b01c1f-a5ab-46e1-bc0f-51e972fe8da0",
   "metadata": {},
   "outputs": [
    {
     "data": {
      "text/plain": [
       "(100, 100)"
      ]
     },
     "execution_count": 57,
     "metadata": {},
     "output_type": "execute_result"
    }
   ],
   "source": [
    "Expected_Data = [20,20,20,10,10,20]\n",
    "\n",
    "Sample_Data  = [11,18,19,19,14,19]\n",
    "\n",
    "sum(Expected_Data),sum(Sample_Data)"
   ]
  },
  {
   "cell_type": "code",
   "execution_count": 58,
   "id": "7b4bac9f-fbb1-4e5c-a016-8b9640d579ed",
   "metadata": {},
   "outputs": [],
   "source": [
    "Significance_value = 0.05\n",
    "df = len(Sample_Data)  - 1"
   ]
  },
  {
   "cell_type": "code",
   "execution_count": 62,
   "id": "44dfade8-d3fd-49b0-9259-0df18e6749a1",
   "metadata": {},
   "outputs": [
    {
     "name": "stdout",
     "output_type": "stream",
     "text": [
      "13.097136781347308 0.022485298042758024\n"
     ]
    }
   ],
   "source": [
    "chi_stat,p_value = stat.chisquare(Expected_Data,Sample_Data)\n",
    "print(chi_stat,p_value)\n"
   ]
  },
  {
   "cell_type": "code",
   "execution_count": 63,
   "id": "cb1a097c-6905-44ea-ae30-594a47b40938",
   "metadata": {},
   "outputs": [
    {
     "name": "stdout",
     "output_type": "stream",
     "text": [
      "11.070497693516351\n"
     ]
    }
   ],
   "source": [
    "critical_value = stat.chi2.ppf(1-Significance_value,df)\n",
    "print(critical_value)"
   ]
  },
  {
   "cell_type": "code",
   "execution_count": 61,
   "id": "0b271c21-4468-44b7-b645-b0ba8eca9912",
   "metadata": {},
   "outputs": [
    {
     "name": "stdout",
     "output_type": "stream",
     "text": [
      "Reject the null hypothesis\n"
     ]
    }
   ],
   "source": [
    "if chi_stat > critical_value: \n",
    "    print(\"Reject the null hypothesis\")\n",
    "else: \n",
    "    print(\"Accept the null hypothesis\")"
   ]
  },
  {
   "cell_type": "code",
   "execution_count": null,
   "id": "5938fad9-66ce-4445-8a15-44fd0b0f1de8",
   "metadata": {},
   "outputs": [],
   "source": []
  },
  {
   "cell_type": "code",
   "execution_count": 64,
   "id": "e50460f3-84d3-49f9-a866-4663870c1140",
   "metadata": {},
   "outputs": [],
   "source": [
    "## Q3 "
   ]
  },
  {
   "cell_type": "code",
   "execution_count": 10,
   "id": "6d6adedc-8473-415b-a2bb-7586d110353c",
   "metadata": {},
   "outputs": [
    {
     "data": {
      "text/plain": [
       "(45, 60)"
      ]
     },
     "execution_count": 10,
     "metadata": {},
     "output_type": "execute_result"
    }
   ],
   "source": [
    "A = [20,10,15]\n",
    "B = [15,25,20]\n",
    "C = [B]\n",
    "sum(A), sum(B)"
   ]
  },
  {
   "cell_type": "code",
   "execution_count": null,
   "id": "c04fa227-02f1-42f3-821d-0762b533cff5",
   "metadata": {},
   "outputs": [],
   "source": [
    "chi_stat,p_value = stat.chisquare(A,B)\n",
    "print(chi_stat,p_value)"
   ]
  },
  {
   "cell_type": "code",
   "execution_count": 20,
   "id": "903f66df-e7f2-4152-bed3-9eec0b7b4655",
   "metadata": {},
   "outputs": [],
   "source": [
    "O1 = [20,15]\n",
    "O2 = [10,25]\n",
    "O3 = [15,20]"
   ]
  },
  {
   "cell_type": "code",
   "execution_count": 28,
   "id": "e24db8d6-e3c6-4093-b710-d817003c06ae",
   "metadata": {},
   "outputs": [],
   "source": [
    "chi_stat,p_value = stat.chisquare(O1,O2,O3)"
   ]
  },
  {
   "cell_type": "code",
   "execution_count": 29,
   "id": "d9247091-a22f-4ce5-a4e5-c770ad1785be",
   "metadata": {},
   "outputs": [
    {
     "data": {
      "text/plain": [
       "(14.0, array([nan, nan]))"
      ]
     },
     "execution_count": 29,
     "metadata": {},
     "output_type": "execute_result"
    }
   ],
   "source": [
    "chi_stat,p_value"
   ]
  },
  {
   "cell_type": "code",
   "execution_count": null,
   "id": "0b789c1d-1a33-4f15-8f51-79c074d07c81",
   "metadata": {},
   "outputs": [],
   "source": []
  },
  {
   "cell_type": "code",
   "execution_count": null,
   "id": "a2a1a4da-fec2-4f07-a38d-4f325ff39077",
   "metadata": {},
   "outputs": [],
   "source": []
  },
  {
   "cell_type": "code",
   "execution_count": 73,
   "id": "eddf8b30-20d6-4cd0-ab68-e78b18f398ce",
   "metadata": {},
   "outputs": [],
   "source": [
    "## Q4"
   ]
  },
  {
   "cell_type": "code",
   "execution_count": 3,
   "id": "c7b09c3a-7f7c-44e3-9298-d37e89c682f6",
   "metadata": {},
   "outputs": [],
   "source": [
    "n = 500\n",
    "\n",
    "x  = stat.norm.interval(0.95,50,5)\n",
    "\n"
   ]
  },
  {
   "cell_type": "code",
   "execution_count": 5,
   "id": "11159281-b7c1-4a64-9463-97f6c1174b46",
   "metadata": {},
   "outputs": [
    {
     "data": {
      "text/plain": [
       "(40.200180077299734, 59.799819922700266)"
      ]
     },
     "execution_count": 5,
     "metadata": {},
     "output_type": "execute_result"
    }
   ],
   "source": [
    "x"
   ]
  },
  {
   "cell_type": "code",
   "execution_count": 74,
   "id": "bab2c6d9-f20f-474e-a516-a882814c4203",
   "metadata": {},
   "outputs": [],
   "source": [
    "## Q5"
   ]
  },
  {
   "cell_type": "code",
   "execution_count": 7,
   "id": "a1bf8d62-aeb4-4687-82aa-f12295c50111",
   "metadata": {},
   "outputs": [],
   "source": [
    "X = stat.norm.interval(0.90,75,12)"
   ]
  },
  {
   "cell_type": "code",
   "execution_count": 9,
   "id": "c973a24d-b150-4db9-b39c-9f6fbae91410",
   "metadata": {},
   "outputs": [
    {
     "name": "stdout",
     "output_type": "stream",
     "text": [
      "(55.26175647658233, 94.73824352341767)\n"
     ]
    }
   ],
   "source": [
    "print(X)"
   ]
  },
  {
   "cell_type": "code",
   "execution_count": null,
   "id": "0dca1f1f-40f6-43a9-ba88-338b0b939f5e",
   "metadata": {},
   "outputs": [],
   "source": []
  },
  {
   "cell_type": "code",
   "execution_count": 77,
   "id": "3efd73c7-4133-4336-b171-f35e491e6252",
   "metadata": {},
   "outputs": [],
   "source": [
    "# Q6"
   ]
  },
  {
   "cell_type": "code",
   "execution_count": 78,
   "id": "7bf28413-48e1-498d-a37a-e3576581572f",
   "metadata": {},
   "outputs": [],
   "source": [
    "df = 10\n",
    "chi_stat = 15 \n"
   ]
  },
  {
   "cell_type": "code",
   "execution_count": 30,
   "id": "26c89154-486b-4d9a-8c9a-2a877629050d",
   "metadata": {},
   "outputs": [],
   "source": [
    "import plotly as plt\n",
    "import scipy.stats as stat\n",
    "import numpy as np"
   ]
  },
  {
   "cell_type": "code",
   "execution_count": 34,
   "id": "81572676-2c60-457b-b78f-73b67ef5ce39",
   "metadata": {},
   "outputs": [
    {
     "data": {
      "text/plain": [
       "array([0.000e+00, 1.000e-02, 2.000e-02, ..., 1.997e+01, 1.998e+01,\n",
       "       1.999e+01])"
      ]
     },
     "execution_count": 34,
     "metadata": {},
     "output_type": "execute_result"
    }
   ],
   "source": [
    "#x-axis ranges from 0 to 20 with .001 steps\n",
    "x = np.arange(0, 20, 0.01)\n",
    "x\n",
    "\n",
    "#plot Chi-square distribution with 4 degrees of freedom\n",
    "#plt.plot(x, stat.chi2.pdf(x, df=10))"
   ]
  },
  {
   "cell_type": "code",
   "execution_count": 83,
   "id": "8d82ad31-bd7f-492b-8d60-67f9b5512a55",
   "metadata": {},
   "outputs": [
    {
     "ename": "AttributeError",
     "evalue": "module 'plotly' has no attribute 'show'",
     "output_type": "error",
     "traceback": [
      "\u001b[1;31m---------------------------------------------------------------------------\u001b[0m",
      "\u001b[1;31mAttributeError\u001b[0m                            Traceback (most recent call last)",
      "Cell \u001b[1;32mIn[83], line 1\u001b[0m\n\u001b[1;32m----> 1\u001b[0m plt\u001b[38;5;241m.\u001b[39mshow()\n",
      "File \u001b[1;32m~\\AppData\\Local\\anaconda3\\Lib\\site-packages\\_plotly_utils\\importers.py:39\u001b[0m, in \u001b[0;36mrelative_import.<locals>.__getattr__\u001b[1;34m(import_name)\u001b[0m\n\u001b[0;32m     36\u001b[0m     class_module \u001b[38;5;241m=\u001b[39m importlib\u001b[38;5;241m.\u001b[39mimport_module(rel_module, parent_name)\n\u001b[0;32m     37\u001b[0m     \u001b[38;5;28;01mreturn\u001b[39;00m \u001b[38;5;28mgetattr\u001b[39m(class_module, class_name)\n\u001b[1;32m---> 39\u001b[0m \u001b[38;5;28;01mraise\u001b[39;00m \u001b[38;5;167;01mAttributeError\u001b[39;00m(\n\u001b[0;32m     40\u001b[0m     \u001b[38;5;124m\"\u001b[39m\u001b[38;5;124mmodule \u001b[39m\u001b[38;5;132;01m{__name__!r}\u001b[39;00m\u001b[38;5;124m has no attribute \u001b[39m\u001b[38;5;132;01m{name!r}\u001b[39;00m\u001b[38;5;124m\"\u001b[39m\u001b[38;5;241m.\u001b[39mformat(\n\u001b[0;32m     41\u001b[0m         name\u001b[38;5;241m=\u001b[39mimport_name, \u001b[38;5;18m__name__\u001b[39m\u001b[38;5;241m=\u001b[39mparent_name\n\u001b[0;32m     42\u001b[0m     )\n\u001b[0;32m     43\u001b[0m )\n",
      "\u001b[1;31mAttributeError\u001b[0m: module 'plotly' has no attribute 'show'"
     ]
    }
   ],
   "source": [
    "plt.show()"
   ]
  },
  {
   "cell_type": "code",
   "execution_count": null,
   "id": "6c1cdb58-4645-463e-ab56-27a31cf8dace",
   "metadata": {},
   "outputs": [],
   "source": []
  },
  {
   "cell_type": "code",
   "execution_count": null,
   "id": "183276a0-0b9f-4633-b4b4-7ead2a4ea429",
   "metadata": {},
   "outputs": [],
   "source": []
  },
  {
   "cell_type": "code",
   "execution_count": null,
   "id": "b2092207-28ed-4b62-aa76-c95b358e65a7",
   "metadata": {},
   "outputs": [],
   "source": []
  },
  {
   "cell_type": "code",
   "execution_count": 35,
   "id": "9ad26817-88ef-4196-bf01-0f4c8ac8b7e5",
   "metadata": {},
   "outputs": [],
   "source": [
    "#Q7"
   ]
  },
  {
   "cell_type": "code",
   "execution_count": null,
   "id": "250e5e94-33ed-4594-94f3-2805a248844c",
   "metadata": {},
   "outputs": [],
   "source": [
    "1. Checking the Conditions\n",
    "The conditions for calculating a confidence interval for a proportion are:\n",
    "\n",
    "The sample is randomly selected\n",
    "There is only two options:\n",
    "Being in the category\n",
    "Not being in the category\n",
    "The sample needs at least:\n",
    "5 members in the category\n",
    "5 members not in the category"
   ]
  },
  {
   "cell_type": "code",
   "execution_count": null,
   "id": "f91177cf-9004-4861-b022-e9af2ea42c9e",
   "metadata": {},
   "outputs": [],
   "source": [
    "2. Finding the Point Estimate\n",
    "The point estimate is the sample proportion.\n",
    "\n",
    "The formula for calculating the sample proportion is the number of occurrences () divided by the sample size ():\n",
    "\n",
    "Point_Estimate = 520/1000 = 0.52 = 52%"
   ]
  },
  {
   "cell_type": "code",
   "execution_count": 46,
   "id": "8dfd1146-9780-4165-9161-8561191490bc",
   "metadata": {},
   "outputs": [],
   "source": [
    "Point_Estimate = 0.52"
   ]
  },
  {
   "cell_type": "code",
   "execution_count": null,
   "id": "817837cd-af87-4c47-b518-5df6f65091e6",
   "metadata": {},
   "outputs": [],
   "source": [
    "3. Deciding the Confidence Level\n",
    "C.I = 99% \n",
    "Alpha = 0.01"
   ]
  },
  {
   "cell_type": "code",
   "execution_count": 42,
   "id": "e5db2e52-2230-4e98-bc55-a704942e1a3d",
   "metadata": {},
   "outputs": [],
   "source": [
    "#4. Calculating the Margin of Error\n",
    "import scipy.stats as stats\n",
    "from math import sqrt\n",
    "z = (stats.norm.ppf(1-0.005))\n",
    "\n",
    "SE = sqrt(0.52*(1-0.52)/1000)\n",
    "#Margin of error\n",
    "E = z*SE"
   ]
  },
  {
   "cell_type": "code",
   "execution_count": 47,
   "id": "139d2e56-17f4-43fa-9eaa-3f4787568d25",
   "metadata": {},
   "outputs": [],
   "source": [
    "#5. Calculate the Confidence Interval\n",
    "LB = Point_Estimate - E\n",
    "UB = Point_Estimate + E"
   ]
  },
  {
   "cell_type": "code",
   "execution_count": 48,
   "id": "424a024a-f1c2-4949-bf6e-1c50be3cf44c",
   "metadata": {},
   "outputs": [
    {
     "data": {
      "text/plain": [
       "[0.4793051576779699, 0.5606948423220302]"
      ]
     },
     "execution_count": 48,
     "metadata": {},
     "output_type": "execute_result"
    }
   ],
   "source": [
    "[LB,UB]"
   ]
  },
  {
   "cell_type": "code",
   "execution_count": 50,
   "id": "1a4e639e-1a82-4802-912d-67e42bd8d8f3",
   "metadata": {},
   "outputs": [
    {
     "data": {
      "text/plain": [
       "[479.3051576779699, 560.6948423220301]"
      ]
     },
     "execution_count": 50,
     "metadata": {},
     "output_type": "execute_result"
    }
   ],
   "source": [
    "[LB*1000,UB*1000]"
   ]
  },
  {
   "cell_type": "code",
   "execution_count": null,
   "id": "882323f1-d44c-44e2-a19b-bad047c4e6f3",
   "metadata": {},
   "outputs": [],
   "source": []
  },
  {
   "cell_type": "code",
   "execution_count": 51,
   "id": "3bc8fdc1-6bd5-410c-b52c-7248095d9188",
   "metadata": {},
   "outputs": [],
   "source": [
    "#Q8"
   ]
  },
  {
   "cell_type": "code",
   "execution_count": 52,
   "id": "d17bfed0-2168-46ea-a827-69f13b8d9e39",
   "metadata": {},
   "outputs": [],
   "source": [
    "A = [45,55]\n",
    "B = [50,50]"
   ]
  },
  {
   "cell_type": "code",
   "execution_count": 56,
   "id": "584ce1d4-f765-4b7d-8609-4957cac99302",
   "metadata": {},
   "outputs": [],
   "source": [
    "chi_stat,p_value = stat.chisquare(A,B)"
   ]
  },
  {
   "cell_type": "code",
   "execution_count": null,
   "id": "ee512246-6b59-48d2-b9cf-a5a5e110e968",
   "metadata": {},
   "outputs": [],
   "source": [
    "critical_value = stat.chi2.ppf(1-Significance_value,df)\n",
    "print(critical_value)"
   ]
  },
  {
   "cell_type": "code",
   "execution_count": 78,
   "id": "d715cf44-a6a2-4b89-bb2a-56f2a8601012",
   "metadata": {},
   "outputs": [
    {
     "name": "stdout",
     "output_type": "stream",
     "text": [
      "3.841458820694124\n",
      "31.349206349206348\n"
     ]
    }
   ],
   "source": [
    "critical_value  = stat.chi2.ppf(1-0.05,1)\n",
    "print(critical_value)\n",
    "print(chi_stat)"
   ]
  },
  {
   "cell_type": "code",
   "execution_count": 79,
   "id": "0a65eda6-bda0-4ae1-8490-d6311b7702ea",
   "metadata": {},
   "outputs": [
    {
     "name": "stdout",
     "output_type": "stream",
     "text": [
      "Reject the null hypothesis\n"
     ]
    }
   ],
   "source": [
    "if chi_stat > critical_value: \n",
    "    print(\"Reject the null hypothesis\")\n",
    "else: \n",
    "    print(\"Accept the null hypothesis\")"
   ]
  },
  {
   "cell_type": "markdown",
   "id": "6dc5bf00-e372-4ee9-813b-09ea81ab0dfb",
   "metadata": {},
   "source": [
    "#As chi_stat value is greaer than critical_value we have to reject the null hypothesis hence the coin is biased. ?"
   ]
  },
  {
   "cell_type": "code",
   "execution_count": null,
   "id": "ba00c28f-934c-48c7-b922-89d4957fa34c",
   "metadata": {},
   "outputs": [],
   "source": [
    "\n"
   ]
  },
  {
   "cell_type": "code",
   "execution_count": 63,
   "id": "1f8d3a05-72bd-41f4-8c55-ce820a93434e",
   "metadata": {},
   "outputs": [],
   "source": [
    "#Q9"
   ]
  },
  {
   "cell_type": "code",
   "execution_count": 64,
   "id": "3f477a81-6607-43eb-b9bb-4968826981e0",
   "metadata": {},
   "outputs": [],
   "source": [
    "A = [60,140]\n",
    "B = [30,170]"
   ]
  },
  {
   "cell_type": "code",
   "execution_count": 65,
   "id": "65ff36a8-0327-4f2c-a5cc-27be13511d5f",
   "metadata": {},
   "outputs": [],
   "source": [
    "chi_stat,p_value = stat.chisquare(A,B)"
   ]
  },
  {
   "cell_type": "code",
   "execution_count": 76,
   "id": "ae0ff621-8708-47a6-830f-c2dc7840a32d",
   "metadata": {},
   "outputs": [
    {
     "name": "stdout",
     "output_type": "stream",
     "text": [
      "3.841458820694124\n",
      "31.349206349206348\n"
     ]
    }
   ],
   "source": [
    "critical_value  = stat.chi2.ppf(1-0.05,1)\n",
    "print(critical_value)\n",
    "print(chi_stat)"
   ]
  },
  {
   "cell_type": "code",
   "execution_count": 77,
   "id": "0671f5e7-3743-44ac-8a99-5b892fda5e91",
   "metadata": {},
   "outputs": [
    {
     "name": "stdout",
     "output_type": "stream",
     "text": [
      "Reject the null hypothesis\n"
     ]
    }
   ],
   "source": [
    "if chi_stat > critical_value: \n",
    "    print(\"Reject the null hypothesis\")\n",
    "else: \n",
    "    print(\"Accept the null hypothesis\")"
   ]
  },
  {
   "cell_type": "code",
   "execution_count": null,
   "id": "0291fd6f-c4a0-4b84-b934-2b51386b5b96",
   "metadata": {},
   "outputs": [],
   "source": []
  },
  {
   "cell_type": "code",
   "execution_count": 68,
   "id": "136eeb96-a403-448a-b5ee-5dfc77550a8c",
   "metadata": {},
   "outputs": [],
   "source": [
    "#Q10"
   ]
  },
  {
   "cell_type": "code",
   "execution_count": 69,
   "id": "5a968bb4-be3e-4773-9e75-fb3498ee14e5",
   "metadata": {},
   "outputs": [],
   "source": [
    "A = [200,150,150]\n",
    "B = [225,175,100]"
   ]
  },
  {
   "cell_type": "code",
   "execution_count": 70,
   "id": "219f26c0-0025-4b7b-8171-cb8ac35633d5",
   "metadata": {},
   "outputs": [],
   "source": [
    "chi_stat,p_value = stat.chisquare(A,B)"
   ]
  },
  {
   "cell_type": "code",
   "execution_count": 74,
   "id": "df5dcc83-a42a-45ec-83c6-8c46048e4f77",
   "metadata": {},
   "outputs": [
    {
     "name": "stdout",
     "output_type": "stream",
     "text": [
      "5.991464547107979\n",
      "31.349206349206348\n"
     ]
    }
   ],
   "source": [
    "critical_value = stat.chi2.ppf(1-0.05,2)\n",
    "print(critical_value)\n",
    "print(chi_stat)"
   ]
  },
  {
   "cell_type": "code",
   "execution_count": 75,
   "id": "cd789953-7004-4fef-989c-64aef4eed271",
   "metadata": {},
   "outputs": [
    {
     "name": "stdout",
     "output_type": "stream",
     "text": [
      "Reject the null hypothesis\n"
     ]
    }
   ],
   "source": [
    "if chi_stat > critical_value: \n",
    "    print(\"Reject the null hypothesis\")\n",
    "else: \n",
    "    print(\"Accept the null hypothesis\")"
   ]
  },
  {
   "cell_type": "code",
   "execution_count": null,
   "id": "4f8fcd64-8f2d-4f1e-94e1-d667c971e303",
   "metadata": {},
   "outputs": [],
   "source": []
  },
  {
   "cell_type": "code",
   "execution_count": 80,
   "id": "6a631e7d-8670-4ab6-8f07-1ce21314c707",
   "metadata": {},
   "outputs": [],
   "source": [
    "#Q11"
   ]
  },
  {
   "cell_type": "code",
   "execution_count": null,
   "id": "43d8b24a-5ac4-4cd0-b67c-d16cd293e1e0",
   "metadata": {},
   "outputs": [],
   "source": [
    "n = 100\n",
    "X = 10\n",
    "Xi = 8 \n",
    "s = 3\n",
    "Alpha = 0.05\n",
    "df = 99\n",
    "\n",
    "#assuming one tail test "
   ]
  },
  {
   "cell_type": "code",
   "execution_count": null,
   "id": "6b390fd2-f6bf-4fa0-b082-e123014dac57",
   "metadata": {},
   "outputs": [],
   "source": [
    "tstat =  stats.t.ppf(1-0.025, 99)\n",
    "tstat"
   ]
  },
  {
   "cell_type": "code",
   "execution_count": 81,
   "id": "b7ab0eff-114f-4781-bf91-5e0875f832b9",
   "metadata": {},
   "outputs": [
    {
     "ename": "NameError",
     "evalue": "name 't' is not defined",
     "output_type": "error",
     "traceback": [
      "\u001b[1;31m---------------------------------------------------------------------------\u001b[0m",
      "\u001b[1;31mNameError\u001b[0m                                 Traceback (most recent call last)",
      "Cell \u001b[1;32mIn[81], line 1\u001b[0m\n\u001b[1;32m----> 1\u001b[0m p_value \u001b[38;5;241m=\u001b[39m t\u001b[38;5;241m.\u001b[39msf(tstat, df)\n",
      "\u001b[1;31mNameError\u001b[0m: name 't' is not defined"
     ]
    }
   ],
   "source": [
    "p_value = t.sf(tstat, df)"
   ]
  },
  {
   "cell_type": "code",
   "execution_count": null,
   "id": "c9001fd7-dcde-4bcf-9a0a-fc76b8640b86",
   "metadata": {},
   "outputs": [],
   "source": [
    "if p_value < Alpha:\n",
    "    print( \"Reject the null hypothesis. There is a statistically significant difference.\")\n",
    "else:\n",
    "    print(\"Fail to reject the null hypothesis. There is no statistically significant difference.\")"
   ]
  }
 ],
 "metadata": {
  "kernelspec": {
   "display_name": "Python 3 (ipykernel)",
   "language": "python",
   "name": "python3"
  },
  "language_info": {
   "codemirror_mode": {
    "name": "ipython",
    "version": 3
   },
   "file_extension": ".py",
   "mimetype": "text/x-python",
   "name": "python",
   "nbconvert_exporter": "python",
   "pygments_lexer": "ipython3",
   "version": "3.11.7"
  }
 },
 "nbformat": 4,
 "nbformat_minor": 5
}
